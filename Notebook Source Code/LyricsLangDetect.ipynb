{
  "nbformat": 4,
  "nbformat_minor": 0,
  "metadata": {
    "colab": {
      "name": "LyricsLangDetect.ipynb",
      "provenance": [],
      "collapsed_sections": [],
      "toc_visible": true
    },
    "kernelspec": {
      "name": "python3",
      "display_name": "Python 3"
    }
  },
  "cells": [
    {
      "cell_type": "code",
      "metadata": {
        "id": "ZXCrFyVXn0WQ",
        "colab_type": "code",
        "outputId": "1cd4e018-5a83-465e-d06b-83e79d2c4a4d",
        "colab": {
          "base_uri": "https://localhost:8080/",
          "height": 122
        }
      },
      "source": [
        "from google.colab import drive\n",
        "drive.mount('/content/drive')"
      ],
      "execution_count": 0,
      "outputs": [
        {
          "output_type": "stream",
          "text": [
            "Go to this URL in a browser: https://accounts.google.com/o/oauth2/auth?client_id=947318989803-6bn6qk8qdgf4n4g3pfee6491hc0brc4i.apps.googleusercontent.com&redirect_uri=urn%3aietf%3awg%3aoauth%3a2.0%3aoob&response_type=code&scope=email%20https%3a%2f%2fwww.googleapis.com%2fauth%2fdocs.test%20https%3a%2f%2fwww.googleapis.com%2fauth%2fdrive%20https%3a%2f%2fwww.googleapis.com%2fauth%2fdrive.photos.readonly%20https%3a%2f%2fwww.googleapis.com%2fauth%2fpeopleapi.readonly\n",
            "\n",
            "Enter your authorization code:\n",
            "··········\n",
            "Mounted at /content/drive\n"
          ],
          "name": "stdout"
        }
      ]
    },
    {
      "cell_type": "code",
      "metadata": {
        "id": "caZ1Eox_n9kv",
        "colab_type": "code",
        "colab": {}
      },
      "source": [
        "import pandas as pd\n",
        "df = pd.read_pickle(\"/content/drive/My Drive/lyrics_cleaned_zip.pkl\", compression=\"zip\")"
      ],
      "execution_count": 0,
      "outputs": []
    },
    {
      "cell_type": "code",
      "metadata": {
        "id": "HdWcXJDNX0IS",
        "colab_type": "code",
        "outputId": "660cac06-f4ec-4ab6-e59f-c12fcc732564",
        "colab": {
          "base_uri": "https://localhost:8080/",
          "height": 419
        }
      },
      "source": [
        "df"
      ],
      "execution_count": 0,
      "outputs": [
        {
          "output_type": "execute_result",
          "data": {
            "text/html": [
              "<div>\n",
              "<style scoped>\n",
              "    .dataframe tbody tr th:only-of-type {\n",
              "        vertical-align: middle;\n",
              "    }\n",
              "\n",
              "    .dataframe tbody tr th {\n",
              "        vertical-align: top;\n",
              "    }\n",
              "\n",
              "    .dataframe thead th {\n",
              "        text-align: right;\n",
              "    }\n",
              "</style>\n",
              "<table border=\"1\" class=\"dataframe\">\n",
              "  <thead>\n",
              "    <tr style=\"text-align: right;\">\n",
              "      <th></th>\n",
              "      <th>ARTIST_NAME</th>\n",
              "      <th>ARTIST_URL</th>\n",
              "      <th>SONG_NAME</th>\n",
              "      <th>SONG_URL</th>\n",
              "      <th>LYRICS</th>\n",
              "      <th>GENRE</th>\n",
              "    </tr>\n",
              "  </thead>\n",
              "  <tbody>\n",
              "    <tr>\n",
              "      <th>0</th>\n",
              "      <td>03 greedo</td>\n",
              "      <td>https://www.azlyrics.com/19/03greedo.html</td>\n",
              "      <td>sweet lady</td>\n",
              "      <td>https://www.azlyrics.com/lyrics/03greedo/sweet...</td>\n",
              "      <td>its only one, 03, i'm from grape street, where...</td>\n",
              "      <td>urban</td>\n",
              "    </tr>\n",
              "    <tr>\n",
              "      <th>1</th>\n",
              "      <td>03 greedo</td>\n",
              "      <td>https://www.azlyrics.com/19/03greedo.html</td>\n",
              "      <td>mafia business</td>\n",
              "      <td>https://www.azlyrics.com/lyrics/03greedo/mafia...</td>\n",
              "      <td>you gonna make me put you in a suit and tie, s...</td>\n",
              "      <td>urban</td>\n",
              "    </tr>\n",
              "    <tr>\n",
              "      <th>2</th>\n",
              "      <td>03 greedo</td>\n",
              "      <td>https://www.azlyrics.com/19/03greedo.html</td>\n",
              "      <td>paranoid</td>\n",
              "      <td>https://www.azlyrics.com/lyrics/03greedo/paran...</td>\n",
              "      <td>we could kill it, yeah, we could, we could, we...</td>\n",
              "      <td>urban</td>\n",
              "    </tr>\n",
              "    <tr>\n",
              "      <th>3</th>\n",
              "      <td>03 greedo</td>\n",
              "      <td>https://www.azlyrics.com/19/03greedo.html</td>\n",
              "      <td>never bend</td>\n",
              "      <td>https://www.azlyrics.com/lyrics/03greedo/never...</td>\n",
              "      <td>yeah, you lil bitch ass dudes steady speaking ...</td>\n",
              "      <td>urban</td>\n",
              "    </tr>\n",
              "    <tr>\n",
              "      <th>4</th>\n",
              "      <td>03 greedo</td>\n",
              "      <td>https://www.azlyrics.com/19/03greedo.html</td>\n",
              "      <td>prayer for my lost</td>\n",
              "      <td>https://www.azlyrics.com/lyrics/03greedo/praye...</td>\n",
              "      <td>x loaded up bro, never see me in the church, p...</td>\n",
              "      <td>urban</td>\n",
              "    </tr>\n",
              "    <tr>\n",
              "      <th>...</th>\n",
              "      <td>...</td>\n",
              "      <td>...</td>\n",
              "      <td>...</td>\n",
              "      <td>...</td>\n",
              "      <td>...</td>\n",
              "      <td>...</td>\n",
              "    </tr>\n",
              "    <tr>\n",
              "      <th>84327</th>\n",
              "      <td>zug izland</td>\n",
              "      <td>https://www.azlyrics.com/z/zugizland.html</td>\n",
              "      <td>cry</td>\n",
              "      <td>https://www.azlyrics.com/lyrics/zugizland/cry....</td>\n",
              "      <td>our fire will rise, ringmaster's eyes, funhous...</td>\n",
              "      <td>urban</td>\n",
              "    </tr>\n",
              "    <tr>\n",
              "      <th>84328</th>\n",
              "      <td>zug izland</td>\n",
              "      <td>https://www.azlyrics.com/z/zugizland.html</td>\n",
              "      <td>suicide</td>\n",
              "      <td>https://www.azlyrics.com/lyrics/zugizland/suic...</td>\n",
              "      <td>hey there killer, where you goin'?, i see you ...</td>\n",
              "      <td>urban</td>\n",
              "    </tr>\n",
              "    <tr>\n",
              "      <th>84329</th>\n",
              "      <td>zug izland</td>\n",
              "      <td>https://www.azlyrics.com/z/zugizland.html</td>\n",
              "      <td>i found you</td>\n",
              "      <td>https://www.azlyrics.com/lyrics/zugizland/ifou...</td>\n",
              "      <td>life was shitty, can't call it, my karmas, bee...</td>\n",
              "      <td>urban</td>\n",
              "    </tr>\n",
              "    <tr>\n",
              "      <th>84330</th>\n",
              "      <td>zug izland</td>\n",
              "      <td>https://www.azlyrics.com/z/zugizland.html</td>\n",
              "      <td>twilight zone</td>\n",
              "      <td>https://www.azlyrics.com/lyrics/zugizland/twil...</td>\n",
              "      <td>somewhere in a lonely hotel room, there's a gu...</td>\n",
              "      <td>urban</td>\n",
              "    </tr>\n",
              "    <tr>\n",
              "      <th>84331</th>\n",
              "      <td>zug izland</td>\n",
              "      <td>https://www.azlyrics.com/z/zugizland.html</td>\n",
              "      <td>cry (acoustic)</td>\n",
              "      <td>https://www.azlyrics.com/lyrics/zugizland/crya...</td>\n",
              "      <td>our fire will rise, ringmaster's eyes, funhous...</td>\n",
              "      <td>urban</td>\n",
              "    </tr>\n",
              "  </tbody>\n",
              "</table>\n",
              "<p>84332 rows × 6 columns</p>\n",
              "</div>"
            ],
            "text/plain": [
              "      ARTIST_NAME  ...  GENRE\n",
              "0       03 greedo  ...  urban\n",
              "1       03 greedo  ...  urban\n",
              "2       03 greedo  ...  urban\n",
              "3       03 greedo  ...  urban\n",
              "4       03 greedo  ...  urban\n",
              "...           ...  ...    ...\n",
              "84327  zug izland  ...  urban\n",
              "84328  zug izland  ...  urban\n",
              "84329  zug izland  ...  urban\n",
              "84330  zug izland  ...  urban\n",
              "84331  zug izland  ...  urban\n",
              "\n",
              "[84332 rows x 6 columns]"
            ]
          },
          "metadata": {
            "tags": []
          },
          "execution_count": 4
        }
      ]
    },
    {
      "cell_type": "code",
      "metadata": {
        "id": "PfFy6zaFYFxV",
        "colab_type": "code",
        "colab": {}
      },
      "source": [
        "from langdetect import detect\n",
        "\n",
        "def augment(x):\n",
        "    try:\n",
        "        return detect(x)\n",
        "    except:\n",
        "        return 'error:' + str(x)\n"
      ],
      "execution_count": 0,
      "outputs": []
    },
    {
      "cell_type": "code",
      "metadata": {
        "id": "NF0AMEn1kycU",
        "colab_type": "code",
        "colab": {}
      },
      "source": [
        "df['LYRICS_REGION'] = df['LYRICS'].apply(lambda x: augment(x))"
      ],
      "execution_count": 0,
      "outputs": []
    },
    {
      "cell_type": "code",
      "metadata": {
        "id": "fwk-c--BoMm7",
        "colab_type": "code",
        "colab": {}
      },
      "source": [
        "df[df['LYRICS_REGION'] == \"en\"].to_pickle(\"data_cleaned_pkl\", compression=\"gzip\")"
      ],
      "execution_count": 0,
      "outputs": []
    }
  ]
}