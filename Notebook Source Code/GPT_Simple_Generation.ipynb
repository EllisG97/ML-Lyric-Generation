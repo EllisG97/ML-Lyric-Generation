{
  "nbformat": 4,
  "nbformat_minor": 0,
  "metadata": {
    "colab": {
      "name": "GPT Simple.ipynb",
      "provenance": [],
      "toc_visible": true
    },
    "kernelspec": {
      "name": "python3",
      "display_name": "Python 3"
    }
  },
  "cells": [
    {
      "cell_type": "code",
      "metadata": {
        "id": "h70mfqs0nJgk",
        "colab_type": "code",
        "outputId": "f5f94094-f05d-4432-d30f-05f0bc23f8f9",
        "colab": {
          "base_uri": "https://localhost:8080/",
          "height": 153
        }
      },
      "source": [
        "%tensorflow_version 1.x\n",
        "!pip install -q gpt-2-simple\n",
        "import gpt_2_simple as gpt2\n",
        "from datetime import datetime\n",
        "from google.colab import files"
      ],
      "execution_count": 1,
      "outputs": [
        {
          "output_type": "stream",
          "text": [
            "WARNING:tensorflow:\n",
            "The TensorFlow contrib module will not be included in TensorFlow 2.0.\n",
            "For more information, please see:\n",
            "  * https://github.com/tensorflow/community/blob/master/rfcs/20180907-contrib-sunset.md\n",
            "  * https://github.com/tensorflow/addons\n",
            "  * https://github.com/tensorflow/io (for I/O related ops)\n",
            "If you depend on functionality not listed there, please file an issue.\n",
            "\n"
          ],
          "name": "stdout"
        }
      ]
    },
    {
      "cell_type": "code",
      "metadata": {
        "id": "s4rtZKVyncE1",
        "colab_type": "code",
        "outputId": "16c1d895-fcff-43e1-bead-580f2f16ec6d",
        "colab": {
          "base_uri": "https://localhost:8080/",
          "height": 136
        }
      },
      "source": [
        "gpt2.download_gpt2(model_name=\"355M\")"
      ],
      "execution_count": 2,
      "outputs": [
        {
          "output_type": "stream",
          "text": [
            "Fetching checkpoint: 1.05Mit [00:00, 399Mit/s]                                                      \n",
            "Fetching encoder.json: 1.05Mit [00:00, 88.3Mit/s]                                                   \n",
            "Fetching hparams.json: 1.05Mit [00:00, 320Mit/s]                                                    \n",
            "Fetching model.ckpt.data-00000-of-00001: 1.42Git [00:06, 205Mit/s]                                  \n",
            "Fetching model.ckpt.index: 1.05Mit [00:00, 255Mit/s]                                                \n",
            "Fetching model.ckpt.meta: 1.05Mit [00:00, 102Mit/s]                                                 \n",
            "Fetching vocab.bpe: 1.05Mit [00:00, 147Mit/s]                                                       \n"
          ],
          "name": "stderr"
        }
      ]
    },
    {
      "cell_type": "code",
      "metadata": {
        "id": "AnqjF_q2ncv1",
        "colab_type": "code",
        "outputId": "86b26340-569e-4de1-df80-e43ffd0c954a",
        "colab": {
          "base_uri": "https://localhost:8080/",
          "height": 122
        }
      },
      "source": [
        "gpt2.mount_gdrive()"
      ],
      "execution_count": 3,
      "outputs": [
        {
          "output_type": "stream",
          "text": [
            "Go to this URL in a browser: https://accounts.google.com/o/oauth2/auth?client_id=947318989803-6bn6qk8qdgf4n4g3pfee6491hc0brc4i.apps.googleusercontent.com&redirect_uri=urn%3aietf%3awg%3aoauth%3a2.0%3aoob&response_type=code&scope=email%20https%3a%2f%2fwww.googleapis.com%2fauth%2fdocs.test%20https%3a%2f%2fwww.googleapis.com%2fauth%2fdrive%20https%3a%2f%2fwww.googleapis.com%2fauth%2fdrive.photos.readonly%20https%3a%2f%2fwww.googleapis.com%2fauth%2fpeopleapi.readonly\n",
            "\n",
            "Enter your authorization code:\n",
            "··········\n",
            "Mounted at /content/drive\n"
          ],
          "name": "stdout"
        }
      ]
    },
    {
      "cell_type": "code",
      "metadata": {
        "id": "Pk8tE1ZKnfU5",
        "colab_type": "code",
        "outputId": "1c51bd1b-72a4-4012-de97-a4bc3f1d5eb6",
        "colab": {
          "base_uri": "https://localhost:8080/",
          "height": 272
        }
      },
      "source": [
        "!cp '/content/drive/My Drive/rock_train.zip' 'rock_train.zip'\n",
        "!unzip 'rock_train.zip'"
      ],
      "execution_count": 2,
      "outputs": [
        {
          "output_type": "stream",
          "text": [
            "Archive:  rock_train.zip\n",
            "   creating: content/checkpoint/rock_train/\n",
            "  inflating: content/checkpoint/rock_train/vocab.bpe  \n",
            "  inflating: content/checkpoint/rock_train/model-390.index  \n",
            "  inflating: content/checkpoint/rock_train/model-1000.index  \n",
            "  inflating: content/checkpoint/rock_train/checkpoint  \n",
            "  inflating: content/checkpoint/rock_train/events.out.tfevents.1584803927.bc3b8287c31c  \n",
            "  inflating: content/checkpoint/rock_train/model-1000.data-00000-of-00001  \n",
            "  inflating: content/checkpoint/rock_train/model-390.data-00000-of-00001  \n",
            "  inflating: content/checkpoint/rock_train/model-390.meta  \n",
            " extracting: content/checkpoint/rock_train/counter  \n",
            "  inflating: content/checkpoint/rock_train/model-1000.meta  \n",
            "  inflating: content/checkpoint/rock_train/events.out.tfevents.1584802947.bc3b8287c31c  \n",
            "  inflating: content/checkpoint/rock_train/encoder.json  \n",
            "  inflating: content/checkpoint/rock_train/hparams.json  \n"
          ],
          "name": "stdout"
        }
      ]
    },
    {
      "cell_type": "code",
      "metadata": {
        "id": "NP1EES0VoWpc",
        "colab_type": "code",
        "outputId": "1b630bd9-977e-4ddf-b437-d36837ade3b2",
        "colab": {
          "base_uri": "https://localhost:8080/",
          "height": 51
        }
      },
      "source": [
        "rock_train = gpt2.start_tf_sess()\n",
        "gpt2.load_gpt2(rock_train, run_name='rock_train')\n"
      ],
      "execution_count": 3,
      "outputs": [
        {
          "output_type": "stream",
          "text": [
            "Loading checkpoint checkpoint/rock_train/model-1000\n",
            "INFO:tensorflow:Restoring parameters from checkpoint/rock_train/model-1000\n"
          ],
          "name": "stdout"
        }
      ]
    },
    {
      "cell_type": "code",
      "metadata": {
        "id": "YBmpN1kjqmCD",
        "colab_type": "code",
        "outputId": "ef039672-684a-4f9c-d01b-01c819ad17ad",
        "colab": {
          "base_uri": "https://localhost:8080/",
          "height": 187
        }
      },
      "source": [
        "gpt2.generate(rock_train,\n",
        "              run_name=\"rock_train\",\n",
        "              length=30,\n",
        "              include_prefix=False,\n",
        "              temperature=1,\n",
        "              nsamples=5,\n",
        "              batch_size=5,\n",
        "              )"
      ],
      "execution_count": 0,
      "outputs": [
        {
          "output_type": "stream",
          "text": [
            "more than usual feel herein' in even, who are, the ones that clouds and hearts, fill with mischief, just causing kids all night,\n",
            "====================\n",
            "step 1 / 2: soak till dry, give the puppy just enough tolight to make the trunks snap, then, snap 'em, snap\n",
            "====================\n",
            "a dumpling, a euro splash, our broken heart is seing everything you've got, in a peaceful retirement, but can i tell the\n",
            "====================\n",
            "shaofeo rouipon hae godunge oe ohateeo ajima, voy wo react maogo kai me\n",
            "====================\n",
            "Happy Primary Day, it's my favorite day and you should know, if you live in a town like ours, then this teacher is your man,\n",
            "====================\n"
          ],
          "name": "stdout"
        }
      ]
    },
    {
      "cell_type": "code",
      "metadata": {
        "id": "8PT7biyey7H7",
        "colab_type": "code",
        "outputId": "a3318120-a674-4647-cd67-e0377118a890",
        "colab": {
          "base_uri": "https://localhost:8080/",
          "height": 119
        }
      },
      "source": [
        "numOfLines = 5\n",
        "currentPrompt = \"I was walking down the street\"\n",
        "result = \"\"\n",
        "for i in range(numOfLines):\n",
        "  string = gpt2.generate(rock_train,\n",
        "              run_name=\"rock_train\",\n",
        "              length=15,\n",
        "              prefix=currentPrompt,\n",
        "              include_prefix=True,\n",
        "              temperature=1,\n",
        "              nsamples=1,\n",
        "              batch_size=1,\n",
        "              return_as_list=True\n",
        "              )[0]\n",
        "  currentPrompt = string + \"\\n\"\n",
        "  result = string\n",
        "print(result)\n"
      ],
      "execution_count": 8,
      "outputs": [
        {
          "output_type": "stream",
          "text": [
            "I was walking down the street around eleven most people walked by me jumping in traffic that blows, me coming\n",
            "\"now don't cry for me i'm still going strong they're so\n",
            "\"well i'm coming down from a high place and i hold on through\n",
            "\"well i'm coming down from a higher = back to lower than i\n",
            "well i'm coming down from a cheaper = a cheaper time than i\n",
            "\n"
          ],
          "name": "stdout"
        }
      ]
    }
  ]
}