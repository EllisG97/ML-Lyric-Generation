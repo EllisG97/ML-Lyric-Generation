{
  "nbformat": 4,
  "nbformat_minor": 0,
  "metadata": {
    "colab": {
      "name": "GPT-2_FineTuning",
      "provenance": [],
      "machine_shape": "hm"
    },
    "kernelspec": {
      "name": "python3",
      "display_name": "Python 3"
    },
    "accelerator": "GPU"
  },
  "cells": [
    {
      "cell_type": "code",
      "metadata": {
        "id": "KBkpRgBCBS2_",
        "colab_type": "code",
        "outputId": "a4ae38be-58dd-4a8d-e0a7-44ef8fea7a42",
        "colab": {
          "base_uri": "https://localhost:8080/",
          "height": 153
        }
      },
      "source": [
        "%tensorflow_version 1.x\n",
        "!pip install -q gpt-2-simple\n",
        "import gpt_2_simple as gpt2\n",
        "from datetime import datetime\n",
        "from google.colab import files"
      ],
      "execution_count": 0,
      "outputs": [
        {
          "output_type": "stream",
          "text": [
            "WARNING:tensorflow:\n",
            "The TensorFlow contrib module will not be included in TensorFlow 2.0.\n",
            "For more information, please see:\n",
            "  * https://github.com/tensorflow/community/blob/master/rfcs/20180907-contrib-sunset.md\n",
            "  * https://github.com/tensorflow/addons\n",
            "  * https://github.com/tensorflow/io (for I/O related ops)\n",
            "If you depend on functionality not listed there, please file an issue.\n",
            "\n"
          ],
          "name": "stdout"
        }
      ]
    },
    {
      "cell_type": "code",
      "metadata": {
        "id": "Yidbd0FJmttr",
        "colab_type": "code",
        "outputId": "6312b466-9a09-4ec5-8ef4-c37955c02773",
        "colab": {
          "base_uri": "https://localhost:8080/",
          "height": 136
        }
      },
      "source": [
        "gpt2.download_gpt2(model_name=\"355M\")"
      ],
      "execution_count": 0,
      "outputs": [
        {
          "output_type": "stream",
          "text": [
            "Fetching checkpoint: 1.05Mit [00:00, 618Mit/s]                                                      \n",
            "Fetching encoder.json: 1.05Mit [00:00, 114Mit/s]                                                    \n",
            "Fetching hparams.json: 1.05Mit [00:00, 865Mit/s]                                                    \n",
            "Fetching model.ckpt.data-00000-of-00001: 1.42Git [00:07, 201Mit/s]                                  \n",
            "Fetching model.ckpt.index: 1.05Mit [00:00, 472Mit/s]                                                \n",
            "Fetching model.ckpt.meta: 1.05Mit [00:00, 90.3Mit/s]                                                \n",
            "Fetching vocab.bpe: 1.05Mit [00:00, 165Mit/s]                                                       \n"
          ],
          "name": "stderr"
        }
      ]
    },
    {
      "cell_type": "code",
      "metadata": {
        "id": "puq4iC6vUAHc",
        "colab_type": "code",
        "outputId": "39d23f47-7ae1-4223-c182-57d12b192aa1",
        "colab": {
          "base_uri": "https://localhost:8080/",
          "height": 34
        }
      },
      "source": [
        "gpt2.mount_gdrive()"
      ],
      "execution_count": 0,
      "outputs": [
        {
          "output_type": "stream",
          "text": [
            "Drive already mounted at /content/drive; to attempt to forcibly remount, call drive.mount(\"/content/drive\", force_remount=True).\n"
          ],
          "name": "stdout"
        }
      ]
    },
    {
      "cell_type": "code",
      "metadata": {
        "id": "GG-DuntJnGlB",
        "colab_type": "code",
        "colab": {}
      },
      "source": [
        "#import pandas as pd\n",
        "df = pd.read_pickle(\"/content/drive/My Drive/data_cleaned_pkl\", compression=\"gzip\")"
      ],
      "execution_count": 0,
      "outputs": []
    },
    {
      "cell_type": "code",
      "metadata": {
        "id": "Gq4hIGcMpzIK",
        "colab_type": "code",
        "colab": {}
      },
      "source": [
        "#cp '/content/drive/My Drive/lyrics_clean_small.txt' 'lyrics_clean_small.txt'\n",
        "#gpt2.copy_file_from_gdrive('lyrics_Clean.txt')\n",
        "!cp '/content/drive/My Drive/pop.txt' 'pop.txt'\n",
        "!cp '/content/drive/My Drive/rock.txt' 'rock.txt'\n",
        "!cp '/content/drive/My Drive/urban.txt' 'urban.txt'"
      ],
      "execution_count": 0,
      "outputs": []
    },
    {
      "cell_type": "code",
      "metadata": {
        "id": "ig_lAyFJqGpC",
        "colab_type": "code",
        "outputId": "1552dd3b-86c0-46df-d8e3-2708d9090c7c",
        "colab": {
          "base_uri": "https://localhost:8080/",
          "height": 1000
        }
      },
      "source": [
        "sess = gpt2.start_tf_sess()\n",
        "\n",
        "gpt2.finetune(sess,\n",
        "              dataset='lyrics_clean_small.txt',\n",
        "              model_name='355M',\n",
        "              steps=1000,\n",
        "              restore_from='fresh',\n",
        "              run_name='run1',\n",
        "              print_every=50,\n",
        "              sample_every=100,\n",
        "              save_every=500,\n",
        "              )"
      ],
      "execution_count": 0,
      "outputs": [
        {
          "output_type": "stream",
          "text": [
            "WARNING:tensorflow:From /usr/local/lib/python3.6/dist-packages/gpt_2_simple/src/sample.py:17: where (from tensorflow.python.ops.array_ops) is deprecated and will be removed in a future version.\n",
            "Instructions for updating:\n",
            "Use tf.where in 2.0, which has the same broadcast rule as np.where\n",
            "WARNING:tensorflow:From /usr/local/lib/python3.6/dist-packages/gpt_2_simple/src/memory_saving_gradients.py:62: get_backward_walk_ops (from tensorflow.contrib.graph_editor.select) is deprecated and will be removed after 2019-06-06.\n",
            "Instructions for updating:\n",
            "Please use tensorflow.python.ops.op_selector.get_backward_walk_ops.\n",
            "Loading checkpoint models/355M/model.ckpt\n",
            "INFO:tensorflow:Restoring parameters from models/355M/model.ckpt\n"
          ],
          "name": "stdout"
        },
        {
          "output_type": "stream",
          "text": [
            "\r  0%|          | 0/1 [00:00<?, ?it/s]"
          ],
          "name": "stderr"
        },
        {
          "output_type": "stream",
          "text": [
            "Loading dataset...\n"
          ],
          "name": "stdout"
        },
        {
          "output_type": "stream",
          "text": [
            "100%|██████████| 1/1 [00:51<00:00, 51.11s/it]\n"
          ],
          "name": "stderr"
        },
        {
          "output_type": "stream",
          "text": [
            "dataset has 10493580 tokens\n",
            "Training...\n",
            "[25 | 30.93] loss=3.18 avg=3.18\n",
            "[50 | 53.05] loss=3.50 avg=3.34\n",
            "[75 | 75.17] loss=2.68 avg=3.12\n",
            "======== SAMPLE 1 ========\n",
            " fitt, a.k.a. a.yum, b.k.a. a.shalm, d.k.a. a.dudee, c.k.a. a.hwutee\", \"reggai\", \"reggin\", \"reggu\", \"reggi\", \"reggi\", \"reggi\", \"reggi\", \"reggi\", \"reggi\", \"reggi\", \"reggi\", \"reggi\", \"reggi\", \"reggi\", \"reggi\", \"reggi\", \"reggi\", \"reggi\", i, \"reggi, \"reggi\", \"reggi\", \"reggi\", \"reggi\", \"reggi\", \"reggi\", \"reggi\", \"reggi\", \"reggi\", \"reggi\", \"reggi\", \"reggi\", \"reggi\", \"reggi\", \"reggi\", \"reggi\", \"reggi, \"reggi\", \"reggi\", \"reggi\", \"reggi\", \"reggi\", \"reggi\", \"reggi\", \"reggi\", \"reggi\", \"reggi\", \"reggi\", \"reggi\", \"reggi\", \"reggi\", \"reggi\", \"reggi\", \"reggi\", \"reggi\", \"reggi\", \"regg\", \"reggi\", \"reggi\", \"reggi\", \"regg\", \"reggi\", \"reggi\", \"reggi\", \"reggi\", \"regg\", d, \"reggi\", \"reggi\", \"reggi\", \"reggi\", \"reggi\", \"reggi\", \"reggi\", \"regg\"\n",
            "\"reggi\", \"reggi\", \"reggi\", \"reggi\", \"reggi\", \"reggi\", \"reggi\", \"reggi\", \"reggi\", \"reggi\", \"reggi\", \"reggi\", \"reggi\", \"reggi\", \"reggi\", \"reggi\", \"reggi\", \"reggi\", \"reggi\", \"reggi\", \"reggi\", \"reggi\", \"reggi\", \"reggi\", \"reggi\", \"reggi\", \"reggi\", \"reggi\", \"reggi\", \"reggi\", \"reggi\", \"reggi, \"reggi\" \"reggi\", \"reggi\", \"reggi\", \"reggi\", \"reggi\", \"reggi\", \"reggi\", \"reggi\", \"reggi\", \"reggi\", \"reggi\", \"reggi\", \"reggi\", \"reggi\", \"reggi\", \"reggi\" \"reggi\", \"reggi\", \"reggi\", \"reggi\", \"reggi\", \"reggi\", \"reggi\", \"reggi\", \"reggi\", \"reggi\", \"reggi\" \"reggi\", \"reggi\", \"reggi\", \"reggi\", \"reggi\", \"reggi\", \"reggi\", \"reggi\", \"reggi\", \"reggi\", \"reggi\", \"reggi\", \"reggi\", \"reggi\", \"reggi\"\n",
            "\", d, \"reggi\", \"reggi\", \"reggi\", \"reggi\", \"reggi\", \"reggi\", \"reggi\", \"reggi\", \"reggi\", \"reggi\", \"reggi\", \"reggi\" \"reggi\", \"reggi\", \"reggi\", \"reggi\", \"reggi\", \"reggi\", \"reggi\", \"reggi\" \", e, \"reggi\", \"reggi\", \"reggi\", \"reggi\", \"reggie\", \"reggi\", \"reggier\", \"reggier\", \"reggier\", \"reggier\", \"reggie\", \"reggie\", \"reggi\", \"reggi\", \"reggie\", \"reggier\", \"reggier\", \"reggier\", \"reggie\" \", f, \"reggi\", \"reggie\",. , , , , , ;;\", f, ,, , f, f,\n",
            "\n",
            "[100 | 121.05] loss=3.31 avg=3.17\n",
            "[125 | 143.17] loss=2.64 avg=3.06\n",
            "[150 | 165.34] loss=2.16 avg=2.91\n",
            "Saving checkpoint/run1/model-150\n",
            "======== SAMPLE 1 ========\n",
            " for this to be true, you are going against yourself, you are gonna break your heart, you are gonna feel that way, but you are gonna come out in the real, you are going to come out to find yourself, out that feeling of wanting somebody, the things they say to you, they say they're right, but they mean it right then, so you can feel like that again, you will not be, won't be, won't be, won't be, won't be, won't be\"\n",
            "\"all day long, the whole way you've done everything, so you don't get to hear me crying, and all day long, all day long, all day long, you can't tell that you want to be, you got to be, you got to be, you got to be, if this is what it really is, you got to be, you got to be, you got to be, if this is what you want to be, you got to be, you got to be, you got to be, if this is what you say, you just can't be not telling this to me, can't be not let's hear you, can't be can't be let's be, all day long, all day long, all day long, all day long, all day long, all day long, no one ever told me anything, can't be no one telling it, don't try and tell me this isn't what it really is, all day long, all day long, all day long, all day long, all day long, all day long, no one ever told me anything, can't be no one listening to my cries, you never asked me nothing of this, can't be no one telling it, can't be no one, all day long, all day long, all day long, all day long, you never said you were for me, but for us, we never said we were against you, but for us, you never said i'd be against you, but for us, you never said we were against you, but for us, i don't wanna put this up to you, don't know you at all, this is just a story, but i want to know what i really feel, i'm sorry, can't tell you what i feel, don't have the words to tell you what i feel, i'm sorry, can't tell you what i feel\"\n",
            "\"now that you've made your choice, you're making it to your hearts' content, now i'm going to prove you wrong, now this is your time, now it's your time, you've made it to yourself, now it's your time, you've made it to yourself, can't you see how you've failed?, how could you leave? no matter what i'm gonna do, now now you're in it, now you're in it, now you're in it, now and now they are different, you know they are different, you've made it to yourself, now this is your time, now it's your time, now it's your time, now it's your time, now it's your time, now it's your time, can't you see how you've failed?, how could you leave?, no matter what i'm gonna do, i'm not doing this to make you feel bad, i'm not doing this to make you feel bad, this is your time, can't you see how you've failed to make the best of yourself?, how could you leave?, i'm not doing this to make you mad, i'm not doing this to make you mad, this is your time, now it's your time, you've made it to yourself, now this is your time, now it's your time, now it's your time, this is your time, it's your time, now it's your time, now it's your time, this is your! time, now it's your time, it's all your time, now it's your time, now it's your time, now it's your time\"\n",
            "\"if only we'd known better, if only we'd knew better, if only we'd known better, if only we'd known better, we could've gotten the rest of our lives, i know, we could've gotten into better places, i know, i know, if you could only remember what it is that's keeping you from us, if you could only remember what it's been holding you back from yourself, let's just get free and go free, now, i know, i know, if you could only remember what it's all holding you back from us, if you could only remember what it's all held with you that keeps you from us, let's just get away and feel free, now, i know, i know, now you do realise that you're not alone, you might find some comfort in something worse, i know, i know, i know\n",
            "\n",
            "[175 | 216.79] loss=2.84 avg=2.90\n",
            "[200 | 238.95] loss=3.42 avg=2.96\n",
            "[225 | 261.07] loss=2.17 avg=2.87\n",
            "======== SAMPLE 1 ========\n",
            ", it may seem that you're more than welcome when your body is around, let's say you're around, let's say you're around, let's say you're around, let's say you're around, let's say you're around, let's say you're around, let's say you're around, let's say you're around\"\n",
            "\"just before you go, take yourself out, take yourself out into the world, go look at your eyes, look at your eyes, maybe take yourself out into the world one last time, just before you go, say it's for you, say it's for you, it's for you, it's for you, it's for you, it's for you, it's for you, it's for you, it's for you, it's for you, it's for you, it's for you\"\n",
            "\"we have to move on, to a state of peace and love, if it's so hard to get by, we know you don't have it, i think, and i think, that we can find it, on somebody else, someplace else, if it's so difficult to get by, don't let your fears get in your way, i'll never let you, i'll never let you, stop on your path of hatred, i'll never let you, i'll never let you, stop on your path of darkness, i will never let you, stop on your path of lies and lies and lies, i will never let you, stop on your path of lies and lies and lies, i will never let you, stop on your path of hate and hate and hate and hate and hate and hate and hate and hate and hate and hate and hate and hate and lies and lies, i'll never let you, stop on your path of lies and lies and lies, i will never let you, i'll never let you, stop on your way of hate and hate and hate and hate and hate and hate and hate and hate and lies and lies and lies, i'll never let you, stop on your way of lies and lies and lies, i will never let you, i'll never let you, stop on your path of lies and lies and lies and lies and lies and lies and lies and lies and lies and lies and lies and lies, i'll never let you, stop on your way of lies and lies and lies and Lies and Lies and Lies and Lies and lies and Lies and Lies and Lies and Lies and Lies and lies and lies and lies and lies and lies and lies and lies and lies\"\n",
            "\"you were such a disappointment last time, and i never wanted to see you go, because you're different now, and you need to leave, and you're just like everything else, and no wonder this, my darling, no no, you're no doubt no problem, you're just like everything else, but if i was with you this time, if it was only one more chance, you'd see how real love is, you wouldn't miss it one bit, now get down on your knees, and tell me how things are now, and how they're gonna be when you're gone, don't you want to please me one more time, don't you know how much it's going to mean to me, and no that's not the end of the fight, when you've been gone and you're gone too late, you wouldn't miss it one bit, now get down on your knees, tell me how things are now, how are you feelin' now?\"\n",
            "\"goodbye so far, goodbye to all the music and stories, all the memories and all the years of our lives, all the things you've said, and now all you've got to do, is to let me in, let me in, let me in, let me in, let me in, oh and i'm not gonna hurt you any more, i'm gonna let you go by the way, in my heart and in my heart and in my heart, 'cause you know that i've been all i can be, and if the music wasn't so strong, all you gotta do, is to let me in, let me in, let me in, if you don't want me to be with you anymore , all you've got to do is make it worth the wait, oh, now you know just how much i miss it, and all the people who loved you when you came in, all the people who loved you when you came in, all the people who loved you when you came in, 'cause you know it's hard to see, you just can't go on, and it's hard to do, 'cause the music's getting weak, you know that i've been all i can be, and if the music isn't so strong, all you gotta do it, to let me in, let me in, let me in, let me in, so we can just let that music alone,\n",
            "\n",
            "[250 | 304.62] loss=2.17 avg=2.80\n",
            "[275 | 326.81] loss=2.29 avg=2.75\n",
            "[300 | 348.94] loss=3.81 avg=2.84\n",
            "Saving checkpoint/run1/model-300\n",
            "WARNING:tensorflow:From /tensorflow-1.15.0/python3.6/tensorflow_core/python/training/saver.py:963: remove_checkpoint (from tensorflow.python.training.checkpoint_management) is deprecated and will be removed in a future version.\n",
            "Instructions for updating:\n",
            "Use standard file APIs to delete files with this prefix.\n",
            "======== SAMPLE 1 ========\n",
            " ain't no sense, i ain't no sense, i ain't no sense, i ain't no sense, you can talk to me at home, i ain't no sense, and when you ask me to believe, then you know i don't hear ya, don't believe 'em, don't believe 'em, i ain't no sense, i ain't no sense, don't believe 'em, don't believe 'em, i ain't no sense, i ain't no sense, na na na na na na na na na na na na na na na na na na na na na na na na na na na na na na na na na na na na na na na na na na na na na na na na na na na na na na na na na na na na na na na na na na na na na na na na na na na na na na na na na na na na na na na na na na na na na na na na na na na na na na na na na na na na na na na na na na na na na na na na na na na na na na na na na na na na na na na na na na na na na na na na na na na na na na na na na na na na na na na na na na na na na na na na na na na na na na na na na na na na na na na na na na na na na na na na na na na na na na na na na na na na na na na na na na na na na na na na na na na na na na na na na na na na na na na na na na na na na na na na na na na na na na na na na na na na na na na na na na na na na na na na na na na na na na na na na na na na na na na na na na na na na na na na na na na na na na na na na na na na na na na na na na na na na na na na na na na na na na na na na na na na na na na na na na na na na na na na na na na na na na na na na na na na na na na na na na na na na na na na na na na na na na na na na na na na na na na na na na na na na na na na na na na na na na na na na na na na na na na na na na na na na na na na na na na na na na na na na na na na na na na na na na na na na na na na na na na na na na na na na na na na na na na na na na na na na na na na na na na na na na na na na na na na na na na na na na na na na na na na na na na na na na na na na na na na na na na na na na na na na na na na na na na na na na na na na na na na na na na na na na na na na na na na na na na na na na na na na na na na na na na na na na na na na na na na na na na na na na na na na na na na na na na na na na na na na na na na na na na na na na na na na na na na na na na na na na na na na na na na na na na na na na na na na na na na na na na na na na na na na na na na na na na na na na na na na na na na na na na na na na na na na na na na na na na na na na na na na na na na na na na na na na na na na na na na na na na na na na na na na na na na na na na na na na na na na na na na na na na na na na na na na na na na na na na na na na na na na na na na na na na na na na na na na na na na na na na na na na na na na na na na na na na na na na na na na na na na na na na na na na na na na na na na na na na na na na na na na na na na na na na na na na na na na na na na na na na na na na na na na na na na na na na na na na na na na na na na na na na na na na na na na na na na na na na na na na na na na na na na na na na na na na na na na na na na na na na na na na na na na na na na na na na na na na na na na na na na na na na na na na na na na na na na na na na na na na na na na na na na na na na na na na na na na na na na na na na na na na na na na na\n",
            "\n",
            "[325 | 398.97] loss=1.41 avg=2.73\n",
            "[350 | 421.09] loss=2.72 avg=2.73\n",
            "[375 | 443.17] loss=2.79 avg=2.73\n",
            "======== SAMPLE 1 ========\n",
            " my head over the ground like a dog, I'm too tired to think of anything else, you've changed my life, now i look back into it now, a year is too long before i'm gonna get over you, i have made my own choice, let's make it, i can't help you, i'm too tired to think of anything else, you've changed my life, now i look back into it now, a year is too long before i'm gonna get over you, i can't help you, i'm too tired to think of anything else, you've changed my life, now i look back into it now, a year is too long ago now, you changed my life\"\n",
            "\"you see it like a piece of glass, a piece of glass, you see it's been all your life, you try to make it big, keep the big glass, big, keep the big glass up up, big, keep it up, keep in touch, your big glass, big, keep the big glass up, keep in touch, your bigger glass, bigger, keep in touch now, bigger still is still keep in contact. big glass, bigger still is still keepin in contact, bigger still is still keepin' in touch, big still is still keepin' still in touch. smaller glass, small still is still keepin' in touch, smaller still is still keepin' still in touch, small still is still keeping in touch. the bigger glass, the bigger still is still keepin' still in touch, the smaller still still is still keepin' still in contact, your bigger still is still keepin' still, your smaller still is still keepin' still, smaller still is still still keepin' still, all the big glass, the bigger still is still keepin' still, the smaller still is still keepin' still, bigger still is still keepin' still, smaller still is still keepin' still, you got bigger still is still keepin' still, smaller still now is still keepin' still, smaller still is still keepin' still in contact, bigger still is still keepin', smaller still is still keepin', you got a bigger still is still keepin' still, smaller still is still keepin' still, you got a smaller still is still still keepin' still on hold, smaller still is still stayin' still\"\n",
            "\"you're all but gone the moment we get on the train, it's like every one's life has to be a dream that's been dreamt, and you're not here tonight it doesn't matter, 'cause, the end of all this is a long way away, you know what's right behind you, baby you know it, it's just a dream, and we both know why why, we know why, and we know why, and the reason doesn't matter, 'cause 'cause 'cause 'cause 'cause 'cause 'cause 'cause 'cause 'cause 'cause 'cause 'cause 'cause 'cause 'cause, when all of the memories die, when all the memories stop, are we in the same place?, baby you'd know it, 'cause 'cause 'cause 'cause 'cause 'cause 'cause, the time can keep us away, but the memories will live on, and the ones it can't, 'cause 'cause 'cause 'cause 'cause 'cause 'cause 'cause 'cause we know why, you know it, 'cause 'cause 'cause 'cause 'cause 'cause 'cause 'cause the reason doesn't matter, 'cause 'cause 'cause 'cause 'cause 'cause 'cause 'cause 'cause 'cause 'cause we know why, you know it, 'cause 'cause 'cause 'cause 'cause 'cause 'cause 'cause 'cause 'cause 'cause 'cause 'cause 'cause 'cause 'cause 'cause 'cause 'cause we know why, you know it yeah, 'cause 'cause 'cause 'cause 'cause 'cause 'cause 'cause 'cause 'cause 'cause 'cause 'cause 'cause 'cause 'cause 'cause 'cause 'cause 'cause 'cause 'cause 'cause 'cause 'cause 'cause 'cause 'cause 'cause 'cause 'cause 'cause 'cause 'cause 'cause 'cause 'cause 'cause 'cause 'cause 'cause 'cause 'cause 'cause 'cause 'cause 'cause 'cause 'cause 'cause 'cause 'cause 'cause 'cause 'cause 'cause 'cause 'cause 'cause i know why, i know it yeah, 'cause 'cause 'cause 'cause 'cause 'cause 'cause 'cause 'cause 'cause 'cause 'cause 'cause 'cause 'cause 'cause 'cause 'cause 'cause 'cause 'cause 'cause 'cause 'cause 'cause 'cause 'cause 'cause 'cause 'cause 'cause 'cause 'cause 'cause 'cause 'cause 'cause 'cause 'cause 'cause 'cause 'cause\n",
            "\n",
            "[400 | 486.88] loss=2.44 avg=2.71\n",
            "[425 | 508.98] loss=3.30 avg=2.75\n",
            "[450 | 531.08] loss=2.21 avg=2.72\n",
            "Saving checkpoint/run1/model-450\n",
            "======== SAMPLE 1 ========\n",
            " in i'm looking up at the stars and this is what the sky will be like, the stars will burn, the stars will burn, the stars will burn, the stars will burn, you're dreaming of stars forever\"\n",
            "\"she gave me one more chance, i will be the one, to show you love, i can't say it enough, oh, i can't say it enough, oh, i can't say it enough, oh, i can't say it enough, oh, you know i said i've been running out of love, we haven't been friends, but i told you i was feeling strong, i'm loving you with every kiss, i can't say it enough, oh, i can't say it enough, oh, you know i just can't say it enough, oh, i can't say it enough, oh, you know i just can't say it enough, oh, i could say it again, oh, oh, oh, i was waiting for you, i was waiting for you\"\n",
            "\"when all these words left me, i can't be sorry it got lost in the noise, cause i know i'll never be alone, that's when i lost my head and fell down below, i need you to hold my spirit, i need you to hold my spirit, hold my soul i need you, hold my soul, hold my soul if you can't hold it, hold my soul if you can't hold it, hold my soul if you take my soul, hold my soul, hold my soul if you can't hold it, hold my soul if you took my soul, hold my soul, hold my soul if you can't hold it, hold my soul if you let fly, hold my soul if you let fly, hold my soul if you let fly, hold my soul if you let fly, hold my soul if you let fly, hold my soul if you let fly, hold my soul if you let fly, hold my soul.\"\n",
            "\"i want to hear the sound of a song in my head, i can hear her crying, i'll play the song from afar, i'll take my eyes away from the dark and the sound of her hand, i hope she hears the sound of the wind on the windscreen, i'll take my eyes away from the light on the door frame, i'll take my eyes away from the light on the door frame, i'll take my eyes away from the light, i'm looking up at the stars i'm looking to the stars, 'cause i'm looking back on the sky, i'll take my eyes away from the starlight, i'll take my eyes away from the starlight, i'll take my eyes away from the stars, that's the song i'm playing, of a song in my head, i'll take my eyes away from the moon and the sun and let the stars flow, i'll take my eyes away from the starlight, i'll take my eyes away from the starlight, there is nothing to say, i thought i couldn't do it, i'm so happy i can see this tomorrow, i wanted you and to have your love, and i've said i can't do this for you, can't do this for you now, there is nothing to say, i thought i couldn't do it, to stand in your arms, just stand in your arms, i'll bring my soul back from the dead i'll bring my soul back, i'll bring my soul from the grave, i'll bring my soul back, i'll bring my soul from the grave, i'll bring my soul back!\"\n",
            "\"a song of thunder, i'll take my heart from the past, i'll take my brain from the past, i will take my heart from the past, i'll take my heart from the past, i, i will take my heart from the past, a song of thunder, i'll take my heart from the past, i'll take my heart from the past, i'll take my heart from the past, i'll take my heart from the past, a song of thunder, i'll take my heart from the past, i'll take my heart from the past, i'll take my heart of the past, i'll take my heart from the past, i take my heart from the past, a song of thunder, i'm taking my heart of the past, i'm taking my heart from the past, i'll take my heart from the past, i'll take my heart from the past, i'll take my heart from the past, i'll take my mind from the past, and i'll take your heart from the past, i'll take your mind from the past, and i'll take your mind of the past, and i'll take your mind of the past, and i'll take your mind of the past\"\n",
            "\"i'm on a mission, i'm on a mission, i'm on a mission, i'm on a mission, a mission, i'm\n",
            "\n",
            "[475 | 581.18] loss=2.42 avg=2.70\n",
            "[500 | 603.33] loss=2.12 avg=2.67\n",
            "[525 | 625.50] loss=2.97 avg=2.68\n",
            "======== SAMPLE 1 ========\n",
            " want' like you do, the love that you do, it seems to me you're a monster, and i'm a demon, we're going to war, it seems to me that you want to kill me, the love that you do, the love that you do, it seems to me you're a monster, and i'm a demon, you're a demon, they're going to war, they're going to war, yeah, we're going to war, yeah, our war, for you, yes, yes we are, yea, yea, yeah, well, my blood run cold, i'm a monster in my own home, i'm a demon in my own home, and i'm a demon\"\n",
            "\"well i am, i have been on the floor. i have been in bed. well i am, i have been on the floor. i have been on the floor. i have been in bed. well i am, i have been on the floor, i have been in bed. oh yes, well yes, i have been in bed.\"\n",
            "\"well i am, i have been dreaming. i've been dreaming about the way you walk out for me. well i know there is always a door waiting, just for you, well i am, i have been dreaming for you in here, if you would turn your mind to me, i have been dreaming. ooh, where do i go to, for the best of me, well i am, yeah, ooh, you, who would've thought that i would see, you, when you come down, i have been dreamily, ooh\"\n",
            "\"well, i know the song, of our future, and it is the future, now your song makes me feel alive inside, i don't want to be alone because we're so lost, don't you leave me alone because my heart's so cold, well, oh, come in, come in to me, it's a place filled with love, well now the future's coming. well, and now the future's coming, we'll be waiting on time, for the future's coming, we'll be waiting on time, for the future's coming, well, i know the song, of our future, oh, oh oh oh oh oh oh oh oh oh oh oh oh oh oh i dream, we're waiting on time, for the future's coming, we'll be waiting on time, for the future's coming, you're a great person and all, oh, come in, come in to me, it's a place filled with love, well now the future's coming. i don't want to be left alone, but i am alone, don't you leave me alone, because my heart's so cold, well, oh, come in here, come in.\"\n",
            "\"well, i have a dream, one day, it'll be the same to your heart, it won't matter, if they'll be here, with you, if they'll be here, they won't be, with you. well, don't you leave me alone, don't you leave me alone, because my heart's so cold, i don't want to be alone cause we're so lost, don't you leave me alone, don't you leave me alone, because my heart's so cold, i don't want to be alone cause we're so lost, don't you leave me alone, don't you leave me alone, cause my heart's so cold, i don't want to be alone cause we're so lost, don't you make me alone, i can't, don't you make me alone, don't you make me alone cause we are so lost, don't you leave me alone, don't you leave me alone, because my heart's so cold, i don't want to be alone cause we're so lost, i don't want to be alone, you are my heart, my mind, the sky's my sky and now i'm living for you, and i'm dreaming a dream of my own, well, don't you leave me alone, don't you leave me alone, cause my heart's so cold, i don't want to be alone cause we're so lost, don't you leave me alone, don't you leave me alone, cause my heart's so cold, i don't want to be alone cause we're so lost, don't you leave me alone, don't you leave me alone, cause my heart's so cold, i don't want to be alone cause we're so lost, don't you leave me alone, don't you leave me alone, cause my heart's so cold, i don't want to be alone cause we're so lost, i don't want to be alone\"\n",
            "\"well i know the song, of our future, when our love has brought happiness for my heart, and it's never gone, now my love, you take me to paradise, now it's here for ever\n",
            "\n",
            "[550 | 669.94] loss=2.29 avg=2.66\n",
            "[575 | 692.04] loss=1.76 avg=2.62\n",
            "[600 | 714.15] loss=2.64 avg=2.62\n",
            "Saving checkpoint/run1/model-600\n",
            "======== SAMPLE 1 ========\n",
            " tell me what I need to do to get on a date, i'm still not sure if i'm feeling it, i can barely focus on my hair, i get so bored that it's like my hair's gone, i think this feeling's all gone again, i think that i'm really done, this thing is all wrong, that i'm missing out on anything, maybe i should have come out yesterday, but the days can feel like hell in the wintertime, and that feels like i could freeze right here in this dream i'm feeling this way. the moon is up tonight, i'm going nuts inside, if i sleep at all, i think i've been sleeping right here on the couch for months, a bottle of wine's all i need, now is when you guys get mad, yeah, i should've just said yes, this isn't what i meant 'bout, i don't know what i've been through, how's everyone gonna do in the fall, there's something i've been trying to ask every now and then but you never answered, i've really tried not to try to get ahead just to take my time, and you don't know what it's like to be a poor college student, we don't really know where to go now, all of this shit is just a waste of time, maybe you should've said something, you don't know what you really miss out on, not even two things for me to know, you don't know if i'm getting too lonely, you don't know if we're falling in love, yeah, the sun is down tonight, i know i'm feeling this way, you don't know what's up, i'm kinda worried about when i close my eyes, all i care about is my wallet, i know where a dollar is spent, maybe i can't live without you, i can't live without your love, i don't know why i need to be so fucking tired of having you, maybe that's not what i meant about you, i said it a thousand times, you were more than nice to me, i still think this shit should've been me, maybe next time i'll make a mistake, maybe you should've said something, maybe you should've said something\"\n",
            "\", i'm feeling so down right now, so many things to lose at all, i'm feeling so down right now, so many things to lose at all, i can't see the reason for my past, it's making me so dizzy, i can't see the light, i can't see the way, how, how can i make up, who am i?, what i say to you was said to me yesterday, is this the way i feel?, i'm feeling so down right now, so many things to lose at all, i'm feeling so down right now, so many things to lose at all, i can't see the light, i can't see the way, how, how can i make up, can i get through it all?, i can put it all to the point, i'm feeling so down right now, so many things to lose at all, i'm feeling so down right now, so many things to lose at all, i'm feeling so down right now, so many things to lose at all, i'm feeling so down right now, so many things to lose at all, i can't see the light, i don't see the way, how, how can i make up, will i feel better?, can i get through, can i find the way out of? i can keep, can i find the way out of? i can keep, can i get through, can i find the way out of, i may not believe it myself, i'll think about it, it's a lot to take in, i'm feeling so down right now, so many things to lose at all, i'm feeling so down right now, so many things to lose at all, i can't see the light, i don't see the way, how, how can i make up, can i get through?, i can keep, i got a big plan, you got a big plan, i got so many plans with my plan, it's a big day, i'm making all the best moves, i never need you to be the reason, i got so many plans with my plan, it's a big day, it's a big day, i'm making all the best moves, i never need you to be the reason, i got so many plans with my plan, it's a big day, i'm making all the best moves, i never need you to be the reason, i got so many plans with my plan, it's a big day, i'm making all the best moves\"\n",
            "\", she had a good time the night before we hit the show, she took me over like no way, the rest is history so i gotta be real sure, and now that we're about to go\n",
            "\n",
            "[625 | 764.39] loss=1.93 avg=2.59\n",
            "[650 | 786.53] loss=2.07 avg=2.57\n",
            "[675 | 808.67] loss=1.43 avg=2.52\n",
            "======== SAMPLE 1 ========\n",
            " world, i am not what you see in these things, the eyes of a woman in those eyes, the hair of a girl in a dress and shoes,\"\n",
            "\"i feel all alone here, i feel so alone, and all i'm gonna write is this, i feel all alone here, i feel so alone, and all i'm gonna write is this, i feel i'm losing my mind, i never wrote this before, i know it's kinda hard for me to find the will to write this again, if we get to the end, i'll tell you why i feel that we got this far and now, what i am gonna write is this, i'm gonna do it without anyone ever knowing, i'm feeling so numb i never saw this, but now, i feel all alone here, i feel so alone, and all i'm gonna write is this\"\n",
            "\"we're living in a world that has been told to us on the screen, all the rules of the world keep telling us to go where we are, i'm living in a world that has been told to us on the screen, all of the rules of the world keep telling us to go where we are, how we live the way we are, is it alright for us to be different, when do we stop being different?, when does it truly stop us, when do we stop being different?, when do we stop being different?, we're living in a world that keeps telling us to go where we are, our life is a joke, when we try so hard to keep things straight, it's just a joke, when we try and see through the lies of the world, are we living in a world that keeps telling us to go where we are, i'm living in a world that always tells us to go where we are, when we're told to go wherever, when we're told to go wherever, when we are told to go wherever, when we're told to go wherever, when we're told to go wherever, when we're told to go wherever, when we're told to go wherever, when we're told to go wherever, when we're told to go wherever, when we're told to go wherever, when we're told to go wherever, when we're told to go wherever, when we're told to go wherever, when we're told to go wherever, when we're told to go wherever, when we're told to go wherever, when we're told to go wherever, when we're told to go wherever, when we're told to go wherever, when we're told to go wherever, when we're told to go wherever, when we're told to go wherever, when we're told to go wherever, when we're told to go wherever, when we're told to go wherever, when we're told to go wherever, when we're taught to take it to the side, and keep believing that we'll be there in the end, when i'm told to live with the world, the world knows i'm different, we're living in a world that's told to us on the screen, we're living in a world that always tells us to go where we are\"\n",
            "\"when i got my head above water i felt bad for a minute, but i got through it alright, when he was lying down on my chest, i cried 'cause he was hurting me, but i felt nothing, 'cause i'd done everything i could, but i was only weak when he was hurt, like crying for every ounce, but when he wasn't hurt and i started loving him, i felt like he was on a different track, i cried again, i said you'll live up and live to regret it, but i cried even harder then i cried when the pain was over, but i still cried, if i said nothing else and when you told me to cry, if i kissed him, if i cried for this, then i cried for another one, and when i got my head above water i felt bad for a minute, but i got through it alright, when he was lying down on my chest, i cried 'cause he was hurting me, but i'd done everything i could, so don't cry for every ounce 'cause i'd done everything i could, and don't cry for the last time 'cause i'll be over, and i cried when you kissed him, it's nothing but what is, but i cried until the fire in the sky turned to smoke in his eyes, and i cried when you kissed him, it's nothing but what is, but i didn't cry when he was hurt, like crying for everything that i had, but when he was hurt he did hurt me, now i cry, i cry 'cause he was hurt me, and nobody cares about me, so don't cry for every ounce, i'll still cry when he was hurt, i cried with him, and when he was hurt, i cried, i cried with him, i cried with him, a girl can\n",
            "\n",
            "[700 | 852.87] loss=2.35 avg=2.51\n",
            "[725 | 874.97] loss=4.16 avg=2.58\n",
            "[750 | 897.11] loss=3.99 avg=2.63\n",
            "Saving checkpoint/run1/model-750\n",
            "======== SAMPLE 1 ========\n",
            " she be, she got them eyes, she got them eyes, yeah, yes they've been mine, yeah, yeah, yeah, yeah, yeah i gotta go, no baby, get on with your girl, yeah no baby, get on with your girl. no baby, get on with your girl.\"\n",
            "\"i get out of bed, they say i'm crazy, they say i'm crazy, what the hell are you doing, i am so crazy, don't you know i got a thing for you, hey, i got a thing for you, hey, no don't you know this, yeah, you can hold me, yes baby, you can hold me, yes baby, you can hold me, yes baby, you can hold me, yes baby, you can hold me, yes baby, you can hold me, yes baby, you can hold me, yes baby, you can hold me, yes baby, you can hold me, yes baby, you can hold my heart, oh my baby, yeah yeah baby, you can hold me, yeah please baby girl!, yea you can hold me, yeah yeah, yeah baby, baby! na na na na na na na na na na na na na na na na na na na na na na na na na na na na na na na na na na na na na na na na na na na na na na na na na na na na na na na na na na na na na na na na na na na na na na na na na na na na na na na na na na na na na na na na na na na na na na na na na na na na na na na na na na na na na na na na na na na na na na na na na na na na na na na na na na na na na na na na na na na na na na na na na na na na na na na na na na na na na na na na na na na na na na na na na na na na na na na na na na na na na na na na na na na na na na na na na na na na na na na na na na na na na na na na na na na na na na na na na na na na na na na na na na na na na na na na na na na na na na na na na na na na na na na na na na na na na na na na na na na na na na na na na na na na na na na na na na na na na na na na na na na na na na na na na na na na na na na na na na na na na na na na na na na na na na na na na na na na na na na na na na na na na na na na na na na na na na na na na na na na na na na na na na na na na na na na na na na na na na na na na na na na na na na na na na na na na na na na na na na na na na na na na na na na na na na na na na na na na na na na na na na na na na na na na na na na na na na na na na na na na na na na na na na na na na na na na na na na na na na na na na na na na na na na na na na na na na na na na na na na na na na na na na na na na na na na na na na na na na na na na na na na na na na na na na na na na na na na na na na na na na na na na na na na na na na na na na na na na na na na na na na na na na na na na na na na na na na na na na na na na na na na na na na na na na na na na na na na na na na na na na na na na na na na na na na na na na na na na na na na na na na na na na na na na na na na na na na na na na na na na na na na na na na na na na na na na na na na na na na na na na na na na na na na na na na na na na na na na na na na na na na na na na na na na na na na na na na na na na na na na na na na na na na na na na na na na na na na na na na na na na na na na na na na na na na na na na na na na na na na na na na na na na na na na na na na na na na na na na na na na na na na na na na na na na na na na na na na na na na na na na na na na na na na na na na na na na na na na na na na na na na na na na na na na na na na na na na na na na na na na na na na na na na na\n",
            "\n",
            "[775 | 948.15] loss=3.59 avg=2.67\n",
            "[800 | 970.25] loss=1.53 avg=2.63\n",
            "[825 | 992.38] loss=2.80 avg=2.63\n",
            "======== SAMPLE 1 ========\n",
            " it, i don't think your friend would ever know, that we were just friends, and now you've turned your back on me, in such a way, you'd rather we spend our days, than spend our days, with you i would go, you'd be nothing without you, with you i would go, there ain'thin' left for me, now you've turned around, your love made a mistake, your love was on its way, now you've turned around, just when you'd been falling like the rain, it fell to the floor, you can't hide the past behind the mask, so it's time to get you out of my mind, and i'll be yours till the end, i don't think it's fair, so i don't want you to know, now you're out of my mind, baby you've made me wanna cry, i don't think you can hide the past, so you're out of my mind, don't think you can hide the past, so you're out of my mind, so get me out of my mind\"\n",
            "\"your eyes, their light, and the way they hold on to you is like tears, they let you know, and even though this love that you showed, it could make no sense, but you had the courage to break loose from the shackles set by the storm, and to take me out of my mind, if i was yours, would you go out on top, and put me in your hand, i can see you, every day, and with the water running in your fur, it's like rain, i can feel you, every day, and if i was yours, would you go out on top, and put me in your hand, i can see you, every day, and with the water running in your fur, it's like rain, how you're making me feel, i can feel you, every day, and with the water running in your fur\"\n",
            "\"my eyes and you're the only things holding me back, i could love you a thousand times, and with all of your tears just to pour, it's like rain, it's like rain, i could love you a thousand times, if we could stay away from the rain, it's like rain, like rain, like rain, oh\"\n",
            "\"that's what i'm gonna do, don't let my eyes get wet, if i'm gonna be, letting go, if i'm gonna change, it's like rain, when i've been crying all night, it's like rain, if you wanna hear the rain, just hear the rain, it's like rain, and when it's down deep, when the sun is warm, or night comes over with it, oh, rainwater, it's like rain, i get wet sometimes, but i'd rather we go away, it's like rain, it's like rain, and when it's down deep, when the sun is warm, or night comes over with it, oh, rainwater, it's like rain, yeah rain water\"\n",
            "\"i'm down that place, that's my place, 'bout to get away, i'm down, down to the edge of a knife, and i would never get any closer, or i'd be lying right on the floor, and if you would try, to see how far you can go, and i know your soul's ready to go, oh, but it's all in the way, i'm gonna die, yeah it's all in the way, i'm gonna die, oh, i was here too long, when i first started out, i had it all but now, i'm down that place, i'm down there, oh yeah, i was down that place, but now i'm, there, down there where the music's playin', and all that's on the stage, 'cause there ain't no place to go, now it's time to go, let the sun go down\"\n",
            "\"i'm so glad we're not here right now, that's what i'm doing, because now i'm crying in the rain, i'm so glad we're not here right now, this thing is moving me, how much i've wanted, to be here, 'cause my eyes, are just not right, this is what i am, no, you can't get enough, of you, oh, yeah, oh, yeah, i'm here for you, no matter how long you're gone, i know we both know you, know we all love you, don't know, love is just love, cause love is like any other. and baby don't we, know love is a, and all that it's can, keep you going with it, no matter how long you're gone, i know we all love you, don't know, love is just love, babe let's get this through, before the things you can't do, i'm here but i'm\n",
            "\n",
            "[850 | 1036.30] loss=2.01 avg=2.61\n",
            "[875 | 1058.43] loss=3.19 avg=2.63\n",
            "[900 | 1080.58] loss=3.47 avg=2.66\n",
            "Saving checkpoint/run1/model-900\n",
            "======== SAMPLE 1 ========\n",
            " brother' mamma, my dear daddy, mmm ma, the mother i'm praying for, your love's so sweet. you're so sweet. oh, i would give anything to have you as a brother, i would give your love, i would give your love for a thousand times. baby daddy, my dear daddy, oh, don't you know your son is handsome, so handsome i give you, this great gift of money, you are beautiful. beautiful, m. mmm, sweet and tender. sweet and tender. sweet and tender, i give you this gift because, i believe in you. i believe in you. i believe in your love, i have heard it all before. mmm, mmm, mmm, you are beautiful, mmm. sweet and tender. sweet and tender. sweet and tender, mmm. sweet and tender.\"\n",
            "\"there are times i wish you luck, but here in my heart i'll say, there are times i wish you luck, but here in my heart i'll say, when i pray for you, i would like to pray for you, and i feel sorry for the place i gave you, so you'll always be mine, now all we really want is for the day, when you're going to take your time and think things through, and i'm not asking you to take my hand, to say that we're all gonna make it through, i want to be my own, i want to be my own, and there's no need to worry, don't forget 'fore we meet again, i don't mind the little things about you, and i'll think of the big ones when i walk around, i want to be my own, i want to be my own, and we're not asking you to be mine, but there are days i wish you luck, but here in my heart i'll say, there are times i wish you luck, but here in my heart i'll say, when i pray for you, i would like to pray for you, and i feel sorry for the place i gave you, so you'll always be mine, so you'll always be mine, every day is different, i hope you have a day when you smile, and i hope it's soon, i hope you have a day when you laugh and cry, i hope 'em find a day when you are happy, and i hope they find a day when you feel good\"\n",
            "\"i don't ask a single thing, my name is not needed, my name is not known, i am not here, to make anyone else mad, i don't want any one to give me trouble, i don't need no one to be mine, i just can't feel myself, and as long as i'm alone, i hope that i can find some way to run away, i don't speak the word in anger, 'cause i'm not giving my energy, 'cause i don't want any one to give me trouble, i don't need any one to be mine, i just can't feel myself, and as long as i'm alone, i hope that they find a day when they can see me, i don't speak the word in anger, 'cause i'm not giving my energy, 'cause i don't want any one to give me trouble, i don't need any one to be mine, i just can't feel myself, and as long, as i'm alone, i hope that they find a day when they can see, i don't speak the word in anger, 'cause i'm not giving my energy, 'cause, i don't have any one to give me trouble, they don't need a single one to give me trouble, i don't need any one to be mine, to be mine, 'cause i don't want any one, to be mine, i'm not asking for no-strings, i won't beg for anything, 'cause i don't want any one, or to be mine, i'm not asking for nothing, no, I don't want to beg, 'cause i don't want any one, 'cause i don't have any one,\"\n",
            "\"trouble, i see you walking away, it ain't no game, don't know why, i feel the same way i did before, no matter where this goes, i always stay, 'cause i'm not gonna quit, i'm not gonna wait, i'm not gonna wait, i'm not gonna wait it out, it's not over yet, you're so fast, but it's coming, you know who i've been lying for, i know the best way to stop you now, i'm no fool, you're coming to town, you're going to have to get me out, you're going to have to get me out, you're so fast, but it's coming, you know who i've been lying for, i know the best way to stop you now, i'm no\n",
            "\n",
            "[925 | 1131.60] loss=1.71 avg=2.63\n",
            "[950 | 1153.69] loss=2.23 avg=2.61\n",
            "[975 | 1175.79] loss=4.16 avg=2.66\n",
            "======== SAMPLE 1 ========\n",
            " spell, that a world lost without the love and hope in your embrace, i'm all that you need to come through, to let, my love, my love, take me to the sky, to let out my soul, it's beautiful, beautiful. oh yeah, all that you see is me, all that my hand is showing is my love, but i cannot, i cannot, to let, my love, my love take me higher, higher, but you cannot, i cannot, you cannot\"\n",
            "\"if i don't get your love tonight, i must hold you, if i want to, i must hold you, if i don't, i must hold you, my love, you are always in my heart, when you're not, when you're not, i need you, baby, if i take too much, i'm down for the drop, if i let too much, i'm down for the time, you keep me feeling good when i'm down, i just know, that you're all so worth it, and i just love the way that you do this for me, i love to love you, if you wanna hold me, i want to hold you, if you hold me, i want to hold you, i don't wanna let you go, i feel like i want it all right, i don't wanna let you go, they let it go, it's true, if i need you, i need you, can't wait no more, i need it, you know this is right, if i don't get you, i can't feel you, and if you don't, i can't get you, i know, you're always in my heart, when you're not, when you're not, i need you, baby, if i take too much, i'm down for the drop, if i let too much, i'm down for the time, you keep me feeling good when i'm down, i just know, that you're all so worth it, and i just love the way that you do this for me, i love to love you, if you wanna hold me, i want to hold you, if you hold me, i want to hold you, i don't wanna let you go, i feel like i want it all right, i don't wanna let you go, they let it go, it's true, if i need you, i need you, can't wait no more, i need it, you know this is right, i need you, baby, if i'm down for the drop, in the drop, in the drop, in the drop\"\n",
            "\"there's this feeling of something that I've seen or felt before, a feeling that makes me so, feels like i've seen your face before, i love you so, there's this feeling of somethin' that i just cannot keep, feeling right through the night, feels like there's a little somethin' i've never seen, feels like i'm the only one to say, can you please come get to me, i need you, i want you, my love, my love, can you please come get to me, and you know you feel somethin' so deep when you touch me, so deep that you, i guess i've already seen it, i guess i can see your face, and know that it's really not wrong, when you're not, i need you, i want you, my love, my love, can you please come get to me, and i know that it's really not wrong, when you're not, i need you, i want you, my love, my love, can you please come get to me, and you know that it's really not wrong, when you're not, i need you, my love, my love, can you ask me, can you feel me?, and you know the feeling is strong through the night, feel like some words that all i need, can't put it in words, just let me, feel like your, feel like your life, feel like you could be right, i hope you're right, i wish you were right, feel like you could see your life, and it feels like you could be right, and i know right from wrong, you could see me love you for who you are, and you know i love you so, in your life, my love, i love you so, feel like you could be right, feel like there's somethin' that i never seen, feel like you could be the only one to say, how i can feel your love, how i can feel your love, how i can feel your love, how i can feel your love, feel like if i could find love for no reason and for sure, it would be so right, in the way that we love in each other, love, can i feel you, feel like i could lose my mind, feel like the one could come and shine the light on me\n",
            "\n",
            "[1000 | 1220.52] loss=3.33 avg=2.68\n",
            "Saving checkpoint/run1/model-1000\n"
          ],
          "name": "stdout"
        }
      ]
    },
    {
      "cell_type": "code",
      "metadata": {
        "id": "RGAhCAWpqnfS",
        "colab_type": "code",
        "colab": {}
      },
      "source": [
        "gpt2.generate(sess,\n",
        "              length=50,\n",
        "              prefix=\"She\",\n",
        "              temperature=0.7,\n",
        "              nsamples=5,\n",
        "              batch_size=5\n",
        "              )"
      ],
      "execution_count": 0,
      "outputs": []
    },
    {
      "cell_type": "code",
      "metadata": {
        "id": "5uhSbT6VkWnQ",
        "colab_type": "code",
        "colab": {}
      },
      "source": [
        "files.download('checkpoint_run1.tar') "
      ],
      "execution_count": 0,
      "outputs": []
    },
    {
      "cell_type": "code",
      "metadata": {
        "id": "p_S1trxzuVcN",
        "colab_type": "code",
        "outputId": "09456774-279d-47b0-9bef-dad6dfd2d37a",
        "colab": {
          "base_uri": "https://localhost:8080/",
          "height": 51
        }
      },
      "source": [
        "gpt2.copy_checkpoint_from_gdrive(run_name='run1')\n",
        "sess = gpt2.start_tf_sess()\n",
        "gpt2.load_gpt2(sess, run_name='run1')"
      ],
      "execution_count": 0,
      "outputs": [
        {
          "output_type": "stream",
          "text": [
            "Loading checkpoint checkpoint/run1/model-1000\n",
            "INFO:tensorflow:Restoring parameters from checkpoint/run1/model-1000\n"
          ],
          "name": "stdout"
        }
      ]
    },
    {
      "cell_type": "code",
      "metadata": {
        "id": "V-KSybP3ubWW",
        "colab_type": "code",
        "outputId": "f5d597d2-8db4-4ba9-dc93-76794d254939",
        "colab": {
          "base_uri": "https://localhost:8080/",
          "height": 187
        }
      },
      "source": [
        "gpt2.generate(sess,\n",
        "              length=30,\n",
        "              #prefix= \"Pink flamingo\",\n",
        "              include_prefix = False,\n",
        "              temperature=1.0,\n",
        "              nsamples=5,\n",
        "              batch_size=5)"
      ],
      "execution_count": 0,
      "outputs": [
        {
          "output_type": "stream",
          "text": [
            "intros have d1, d5, and r5, so the marketing team, rotums have gotta push, contract to look better and play\n",
            "====================\n",
            "EASTLAND, My arm is ready, my arm is stronger than the rest. my head is good, my hands are strong as mountains, my\n",
            "====================\n",
            "a ball of fire explodes, spread the wings that seals the fate of this life, look at it come down, four thousand un-educated then sixth\n",
            "====================\n",
            "If there's not an answer, i'm in love with a question, i know where it's at, i'm a lover that's proven himself\n",
            "====================\n",
            "\"for me, she's a lady, who walks by my side, yes a lady, for you i want your love, oh oh oh oh\n",
            "====================\n"
          ],
          "name": "stdout"
        }
      ]
    },
    {
      "cell_type": "code",
      "metadata": {
        "id": "TLvvGnqDUGGt",
        "colab_type": "code",
        "colab": {}
      },
      "source": [
        "pop_model = gpt2.start_tf_sess()"
      ],
      "execution_count": 0,
      "outputs": []
    },
    {
      "cell_type": "code",
      "metadata": {
        "id": "giMDVlBZTqXe",
        "colab_type": "code",
        "outputId": "b51cff55-b73a-4ccc-caba-557a57877d88",
        "colab": {
          "base_uri": "https://localhost:8080/",
          "height": 1000
        }
      },
      "source": [
        "gpt2.finetune(pop_model,\n",
        "              dataset='pop.txt',\n",
        "              model_name='355M',\n",
        "              steps=1000,\n",
        "              restore_from='fresh',\n",
        "              run_name='pop_train',\n",
        "              print_every=50,\n",
        "              sample_every=100,\n",
        "              save_every=500,\n",
        "              )"
      ],
      "execution_count": 0,
      "outputs": [
        {
          "output_type": "stream",
          "text": [
            "WARNING:tensorflow:From /usr/local/lib/python3.6/dist-packages/gpt_2_simple/src/sample.py:17: where (from tensorflow.python.ops.array_ops) is deprecated and will be removed in a future version.\n",
            "Instructions for updating:\n",
            "Use tf.where in 2.0, which has the same broadcast rule as np.where\n",
            "WARNING:tensorflow:From /usr/local/lib/python3.6/dist-packages/gpt_2_simple/src/memory_saving_gradients.py:62: get_backward_walk_ops (from tensorflow.contrib.graph_editor.select) is deprecated and will be removed after 2019-06-06.\n",
            "Instructions for updating:\n",
            "Please use tensorflow.python.ops.op_selector.get_backward_walk_ops.\n",
            "Loading checkpoint models/355M/model.ckpt\n",
            "INFO:tensorflow:Restoring parameters from models/355M/model.ckpt\n"
          ],
          "name": "stdout"
        },
        {
          "output_type": "stream",
          "text": [
            "\r  0%|          | 0/1 [00:00<?, ?it/s]"
          ],
          "name": "stderr"
        },
        {
          "output_type": "stream",
          "text": [
            "Loading dataset...\n"
          ],
          "name": "stdout"
        },
        {
          "output_type": "stream",
          "text": [
            "100%|██████████| 1/1 [01:00<00:00, 60.66s/it]\n"
          ],
          "name": "stderr"
        },
        {
          "output_type": "stream",
          "text": [
            "dataset has 12606123 tokens\n",
            "Training...\n",
            "[50 | 54.47] loss=2.66 avg=2.66\n",
            "[100 | 98.80] loss=2.15 avg=2.40\n",
            "======== SAMPLE 1 ========\n",
            " second love is different, sometimes, sometimes, it's different. Sometimes it's different, sometimes. Sometimes it's different. Sometimes. Sometimes. Sometimes. Some day it'll make you forget who you are. Sometimes, sometimes, sometimes it's different. Sometimes. Sometimes. Some day it'll make you forget who you are. Sometimes, sometimes, sometimes it's different. Sometimes, sometime it's different. Sometimes, sometimes. Sometimes.\"\n",
            "\"my love is different, sometime. always. always. some day, some day. some day. some day. sometimes. some day. some day. sometimes. some day. some day. some day. some day. some day. some day. some day. some day. some day. some day. some day. some day. some day. some day. some day. some day. some day. some day. some day. some day. some day. some day.\"\n",
            "\"my love is different, sometime, sometimes, some day. some day. some day. some day. sometimes. some day. some day. some day. some day. some day. some day. some day. some day. some day. some day. some day. some day. some day. some day. some day. some day. some day. some day. hey..hey..hi..hi..hi..hi, some day, some day, some day, some day, some day. sometime. some day, some day, some day.\"\n",
            "\"hey, let's pretend we both know right now, what we do today, when we come to the end, i'm sure we'd be happier than we are now anyway, let's pretend we both know right now, we'd be happier than we're right now anyway, but we'd be happier if i were still here, yeah, i know i might not be so perfect after tonight, i'm sure that i might not be all that perfect, maybe i'd be really happier now, if i was still here, maybe i'd be really happier now, we'd be happier than we otherwise would be, and nobody would know, we'd be happier than we were right now, because maybe i'll change, maybe i will. i know i might not be all that perfect after tonight, i'm sure that i might not be all that perfect, maybe i'd be really happier now, if i was still here, maybe i'd be really happier now, we'd be happier than we otherwise would be, and nobody would know, we'd be happier than we were right now, because maybe i'll change, maybe i will., we'd be happier than we otherwise would be, and nobody would know, we'd be happier than we were right now, because maybe i'll change, maybe i will.\"\n",
            "\"i wanna see who else will fall to my side, i wanna be left alone again, i wanna be left alone again and i'm pretty sure that it will not come easy, i wanna see who else will fall to my side, i wanna be left alone again and i'm pretty sure that it will not come easy, i wanna see who else will fall to my side, i wanna be left alone again, i wanna be left alone again and i'm pretty sure that it will not come easy, i wanna see who else will fall to my side, i wanna be left alone again and i'm pretty sure that it will not come easy, i wanna see who else will fall to my side, i wanna be left alone again and i'm pretty sure that it will not come easy, i wanna see who else will fall to my side, i wanna be left alone again and i'm pretty sure that it will not come easy, i wanna see who else will fall to my side, i wanna be left alone again and i'm pretty sure that it will not come easy, i wanna see who else will fall to my side, i wanna be leftalone again and i'm pretty sure that it will not come easy, i wanna see who else will fall to my side, i wanna be leftalone again and i'm pretty sure that it will not come easy, i wanna see who else will fall to my side, i wanna be leftalone again and i'm pretty sure that it will not come easy\"\n",
            "\"my love is the best of friends, the best of friends, i won't be able to keep saying that i'm sorry, not anymore, just because i'm not the one i know, you make me feel like the one i don't care, what's wrong, you tell me i'm a fool, you tell me i'm not a real friend, you tell me i'm not the person i'm supposed to be?, i'm here to say i'm sorry, i'm here to say i'm sorry, i'm here to say i'm sorry, i'm here to say i'm sorry\"\n",
            "\"i'll never turn my back to you, i'll never turn my back to you,\n",
            "\n",
            "[150 | 167.14] loss=3.11 avg=2.64\n",
            "[200 | 211.40] loss=3.14 avg=2.77\n",
            "======== SAMPLE 1 ========\n",
            " your eyes are open and your heart is warm, it's all there within your eyes, 'til we have no more words to express, it's all there within our hearts, but now it's all there, 'til we've got lost to speak of, i've been lost to speak of, i've been lost to speak of, i've been lost to speak of, i've been lost to speak of, i've been lost to speak of, i've been lost to speak of\"\n",
            "\"i don't know how this might turn out, i've been there and done that, I've been the bad boy in the party for so long, oh and i don't know if i should be, i'm getting hot again, like the fire i'm trying to put out, oh the fire i've been trying to put out, i've always been there, always been there, i've been there and done that, i've been and done that, but sometimes i really don't know if i should be, i'm getting hot again, like the fire i'm trying to put out, oh the fire i've been trying to put out, i've always been there, always been there, i've been there and done that, i've been and done that, but sometimes i really don't know if i should be, i'm getting hot again, like the fire i'm trying to put out, oh the fire i've been trying to put out, i've always been there, always been there, i've been there and done that, i've been and done that, the fire i've been trying to put out, oh the fire i've been trying to put out, i've always been there, always been there, i've been there and done that, i've been and done that, the fire i've been trying to put out, oh the fire i've been trying to put out, i've always been there, always been there, i've been there and done that, the fire i've been trying to put out, oh the fire i've been trying to put out, i've always been there, always been there, i've been there and done that, i've been and done that, the fire i've been trying to put out, oh the fire i've been trying to put out, i've always been there, always been there, i've been there and done that, i've been and done that, the fire i've been trying to put out, oh the fire i've been trying to put out, i've always been there, always been there, i've been there and done that\"\n",
            "\"oh i'll take my time, oh oh oh yes i'll take my time, that's what my heart says, oh yes my heart says, and i'll take my time, i'll take my time, oh oh oh yes i'll take my time, i'll take my time, oh yes my heart says, oh yes my heart says\"\n",
            "\"i will see that my family does not suffer, no matter what you do to them, but the heart of human, it always comes back to love, it always comes back to love, i will see that my family do not suffer, and the heart of human, it never comes back to hate, but the heart of human, it never comes back to hate, when you know that you've won, there's always the will, it always comes back to love, it always comes back to love, so much to know, is to know. it always comes back to love. 'til love, it always comes back to love, i won't change, it's something you're holding onto, i will see that my family does not suffer, no matter what you do to them, but the heart of human, it always comes back to love, it always come back to love, i will see that my family do not suffer, and the heart of human, it never comes back to hate, but the heart of human, it never comes back to hate, when you know that you've won, there's always the will, it always comes back to love, it always comes back to love, heart of human, it always comes back to love, it always comes back to love, so much to know, is to know. i'll see that my family do not suffer, and the heart of human, it always comes back to love, it always comes back to love, i'll see that my family do not suffer, and the heart of human, it never comes back to hate, but the heart of human, it always comes back to love, it always comes back to love, i'll see that my family do not suffer, and the heart of human, it always comes back to love, it always comes back to love, heart of human, it never comes back to hate, but the heart of human, it always comes back to love, it always comes back to love, it always comes\n",
            "\n",
            "[250 | 277.47] loss=2.23 avg=2.66\n",
            "[300 | 321.71] loss=2.32 avg=2.60\n",
            "======== SAMPLE 1 ========\n",
            " knocking me down again, i'm going to leave you alone, go to bed, no way to hold and hold me still, just feel so strong and i'm sorry, i'm going to leave you alone, go to bed, no way to hold and hold me still, just feel so strong and i'm guilty, i'm going to leave you alone\"\n",
            "\"well he's gonna say, i won't be sorry, he's gonna do it alone, you know i'm gonna say something, just leave me alone, just take my mind off it, but that's the way he's gonna do it, for him and her, i know he doesn't care, he really doesn't want to be, he just wants you, she's really nice she really doesn't have a problem, but he's got more than that now, that's why love is hard, not easy, not always happy, that's a big big wish of mine, that if you'd listen, and you'd follow, then he would never need to love, that you loved him so much and that he would come, for you, for him, there's a reason, that's the way he wants to be, for him oh ohoh oh, we are so tight, like old times, but he's a man who loves a man, he'll do anything for you but that's the way you want him to be, but you just got to get on him, i want him to come too, if you're a girl love him now, like that's my first command, and then i want you to hold me, but then i wanna love him too, if you have a woman love her, we can be as true as we are, you know what we really are, that's the way i wanna be, you know what i wanna do, my first command, you and me now i'm coming out, to make you understand, and all the way, you think that that's it? ohoh oh oh oh, love me, love me oh oh oh, oh oh oh oh, love me oh oh oh, oh oh oh oh oh, he loves me now, and he loves her too, oh oh oh oh oh, love me oh oh oh, oh oh oh oh, oh oh oh oh, oh oh oh oh oh, and i will stay there in the world where i can be, oh oh yeah\",\n",
            "\"we had a great big fight, but we won, oh oh, he came the day after, well, just a little bit and we were alright, i love you, still i can't get him gone, it won't come soon enough, you were a big man, well it hurt my eyes when i'm with you, i've loved you so, i've loved you, but you have left me, you're gone, oh oh oh, you'll never be my guy, when i walk the streets i feel, ohoh, you didn't mean me or the love you put into me, it hurt my eyes when i'm with you, i've loved you so, i've loved you, but you have left me, you're gone, yes you left me there on the floor, no, don't let me go,\"\n",
            "\"-you want me dead and you want someone to love you so badly, you want me just like you do that's why i love you and you should, you might think i'm just mad, but you'd be dead wrong, what i see is what you have thought and that's what you get, no you won't see, but i love you and you are so special, so special and so lovely, you're everything that i dream i'm but i know it's just a dream, but i want to tell you what i know, you and i have each a chance, with your love you're the one that i'll have, there's nothing that you can do, in the end, i love you too much, even if i have to get a divorce, i still love you, i love you, i love you, i love you so badly, but there's nothing you can do, in the end, i love you too much, but you know you know that i don't give, but you know you're not gonna walk me into a dark room, and i don't give in too much, you know I'm just getting ready too much, to make a dream come true, what am i, oh oh oh, i will walk to get the girl, but i'll walk all night and i'll be true, i am gonna be there for you when the doors knock, i was gonna give it all to be in your debt, oh oh, but it was you that kept all my love in your heart, you're the same to my heart and that's why i love you so badly, i'm going to keep on waiting to see if you'll stay with me, yeah, but i want you to stay and\n",
            "\n",
            "[350 | 387.89] loss=1.87 avg=2.49\n",
            "[400 | 432.18] loss=3.40 avg=2.61\n",
            "======== SAMPLE 1 ========\n",
            ", i'm a sucker, i like my little piece of heaven, i don't want to waste time, i'm a sucker, i like my little piece of heaven, and here i stand, i don't want to waste time, i'm a sucker, i like my little piece of heaven, a sucker, i like my little piece of heaven\"\n",
            "\"let's see him look around, he's the star of a million television news programs, they'll find him when they find him, he's a celebrity or something, or he's a little celebrity, he's a celebrity or something, he's a celebrity or something, oh oh he's a celebrity, he's a celebrity, he's a celebrity, he was a celebrity, he was a celebrity, he was a celebrity or something, let's see him look around\"\n",
            "\"the last thing we want, to happen to you, is for us to turn your pain into happiness, let's hope, if you're ready for something new, we can learn how to start, let's hope, if you're ready for something new, we can learn how to start, let's hope, if you're ready for something new, we can learn how to start, let's hope, if you're ready for something new, we can learn how to start, let's hope, if you're ready for something new, we can learn how to start, let's hope, if you're ready for something new, we can learn how to start, lets hope you're ready for something new\"\n",
            "\"you're so old and you're so young, i can't believe you're feeling this, you'll always be the youngest, so tired and you're so young, you've never told me, you're so long ago and you're so old, and you don't have time to spare, how do you think i feel, now your face looks all different, you look so nice but this is too late, it seems you're all alone in a room, you're so old and you're so young, you've never told me, you're so long ago and you're so old, and i don't have time to spare, why do i feel so shy, when you're staring in my eyes, and i don't know what you feel inside, you look so nice but this is too late, i'll be gone, i'll be leaving forever, you're so long ago and you're so old, and i don't have time to spare, i don't know if the time's running thin, for you to learn, to stop wasting your time, you know it'll never come easy, you're so long ago and you're so old, and i don't have time to spare, i'm never coming back, to see you again, you're so long ago and you're so old, and i don't have time to spare, i don't know if it's the end of my life, but i don't think at all, i don't care, i never would've dreamed of falling into love, you can kiss me goodbye, i can't resist, i wish the best of luck for you, and i wish the best of luck to you, so don't leave me hanging, if you can't get anything more, i may decide for you, i am so lonely, so lonely, i am so lonely, you can kiss me goodbye, i can't resist, i wish the best of luck for you, and i wish the best of luck to you\"\n",
            "\"is she tired, is she young, is she old, is she lost, is she cold, is she strong, is she lonely, is she frightened, is she afraid, is she sad, is she strong, is she young, when we're alone, on my bed, and your lips and my nose, are we two, is our love, is it, is it right, is we, are we, are we, and we are our loved, are we, we are our wanted, are we, and we are our loved, are we, are we, are we, are we, are we, are we, and we are our wanted, are we, are we, are we, are we, are we, and we are our loved\"\n",
            "\"if i was living with him, if i was living with him, if i would be his baby, then i'd be your baby, i'd be your baby, i'd be your baby, and if every time and everything, every time, every time, every time, until my baby gets old, until my baby gets old, until my baby gets old, till my baby gets old, till my baby gets old, till my baby gets old, until my baby gets old, till my baby gets old, till my baby gets old, until my baby gets old, i think we could meet, in the middle of summer, i think we could meet, i think we would find\n",
            "\n",
            "[450 | 498.18] loss=2.68 avg=2.62\n",
            "[500 | 542.43] loss=2.34 avg=2.59\n",
            "Saving checkpoint/pop_train/model-500\n",
            "======== SAMPLE 1 ========\n",
            "'t you love me?, baby if it's true, you'll tell me, i've been waiting in vain, what a sad sad way to leave baby, what a sad sad way to leave baby baby, baby if it's true, you'll tell me, i've been waiting in vain, what a sad sad way to leave baby, what a sad sad way to leave baby baby, baby if it's true, you'll tell me, i've been waiting in vain, what a sad sad way to leave baby, what a sad sad way to leave baby, what a sad sad way to leave baby\"\n",
            "\", i'm never gonna give in 'cause you're always gonna be there, but we're never gonna leave your side, and i never wont stay here with you, 'cause that's just how it is, i never wont take you back, 'cause that's just how we are, no problem, we're just living out our own version of rock & roll, baby you got the numbers that get you through the roof, no problem, we're still gonna be here for you, no problem, baby that's just how we are, no nothing to do, baby yeah baby yeah, i've been around, but i never see, you go go go, if it's not too late, you've been around your heart, if it needs a make-up or something, just tell me babe how it feels, baby i'll be here right by your side, baby i'm a part of you baby, you can count on me if your heart's not on, hold 'em tight, i'll do the job, cause i'm gonna do it baby, baby i'll be here right by your side, baby i'm a part of you baby baby, you can count on me if your heart's not on, hold 'em tight, i'll do the job, baby baby, baby baby baby baby girl that i've been around, yeah baby girl baby girl baby baby, it all goes, baby baby baby baby baby baby baby, baby baby baby baby baby baby, baby baby baby baby baby baby baby baby, babybaby baby baby baby baby baby baby baby, babybaby baby baby baby baby baby baby baby baby, babybaby baby baby baby baby baby baby baby baby baby baby baby baby baby baby baby baby baby baby baby baby baby baby baby baby baby baby baby baby baby baby baby baby baby baby, baby baby baby baby baby baby baby baby baby baby baby baby baby baby baby baby baby, baby baby baby baby baby baby baby baby baby baby baby baby baby baby baby baby baby, baby baby baby baby baby baby babe baby baby baby, baby baby baby baby baby baby baby girl baby baby baby baby, baby baby baby baby baby baby baby girl baby baby baby baby baby baby, baby baby baby baby baby baby baby girl baby baby baby baby baby, baby baby baby baby baby baby baby girl baby baby baby baby baby, baby baby baby baby baby baby baby baby baby baby baby baby baby baby baby baby baby, baby baby baby baby baby girl baby baby baby baby baby baby baby baby baby baby baby baby baby baby baby baby baby baby baby, baby baby baby little baby baby little baby baby baby baby baby baby baby baby baby baby baby baby baby, baby baby baby baby baby baby girl little baby baby baby baby baby baby baby baby baby baby baby, baby baby little baby baby little baby baby baby baby baby baby baby baby baby baby baby, baby baby baby little baby little boy baby girl baby, little baby baby baby baby little baby baby baby baby baby baby baby baby baby baby baby baby baby baby baby baby baby, baby baby baby baby baby baby baby woman baby baby baby baby baby baby baby, baby baby baby baby little baby baby baby baby baby baby baby baby baby baby baby baby baby baby baby baby baby, baby baby baby baby little baby little baby baby baby baby baby baby baby baby baby baby baby baby baby baby baby baby baby baby, little baby baby little baby baby baby baby baby baby baby baby baby baby baby baby baby baby baby baby baby baby baby baby baby baby baby baby baby baby, baby baby little baby little baby little baby baby baby baby baby baby baby baby baby baby baby baby baby baby baby baby baby baby, baby baby baby little baby baby baby baby baby baby baby baby baby baby baby baby baby baby baby baby baby,\"\n",
            "\", you know it ain't over, it's not over, you know it's over, baby, you know it's over, baby, if we leave, 'cause it's not over, i want out, baby, you know, it's over, baby, it's over, baby, if i get what i need to get it back, baby, baby, baby, baby, baby, baby, baby, baby, baby, baby, baby, baby, baby, baby, baby, baby, baby, baby, baby, baby, baby, baby, baby, baby, baby, baby, baby, baby, baby, baby, baby, baby, baby, baby, baby, baby, baby\n",
            "\n",
            "[550 | 615.99] loss=2.32 avg=2.56\n",
            "[600 | 660.26] loss=1.90 avg=2.50\n",
            "======== SAMPLE 1 ========\n",
            ", this isn't a new story, but i feel its all too familiar, to make you feel all too comfortable, this isn't a new story, but i feel it all too familiar, when i feel no one is around, this isn't a new story, i don't feel my whole life is up for, with a man like you there's no way you can't feel it, i don't feel my whole life is up for, i've given my whole life to you, to just leave this life behind, i've given my whole life to you, to just leave this life behind, i've given my whole life to you, i'm trying to get you off this earth, but you're not even looking out of my reach, and you don't even try, you can't get off this earth, let's get you off the planet, let's get us all out of this earth, let's get us all out of this earth, let's get us all out of this earth, that's right, let's get us all out of this earth, let's get us all out of this earth\"\n",
            "\"i'll write a new song. i'll write a new song. i love myself i'll write a song for myself. i sing my heart out for you, i sing my heart out that is yours. your eyes can see, the tears i'm weeping. so how can you do what you can, no, this is not real. you won't be the one that i wanna let grow, you will fall on my shoulder. it's alright baby. it's alright. it's alright, baby. it's alright, baby. it's alright, baby. it's alright, baby. it's alright, baby. it's alright, baby. it's alright, baby, it's alright\"\n",
            "\"i don't want to let you leave. you're just too old to walk the road. you don't know how to dance. you don't know the lyrics. all the dancing that you do. i wanna dance with you, i wanna dance at your feet. you're not even looking good enough, i won't play. dance with you, i wanna dance with you. dance with you. i wanna dance at your feet and love you, i wanna dance with you. i got so, i can't let you go. i wanna dance with you. if you wanna dance, it's gonna take a couple of seconds. do you wanna dance, dance with me. dance with me, it'll take a couple of seconds.\"\n",
            "\"we're just a boy and a girl on the road, we get lost in the wild, in the world and i know it all, we're just a boy and a girl on the road, we're just a boy and a girl on the road, can't put us down or put us on our knees, can't throw us out, love takes a little love, i know that it will come and it'll come, this kind of love will take us where the real won, on a journey, we're just kids that we want to see, we're just children that we want to look at, it's just a girl from the outside, it has all the right thoughts, i know that just as much as it's sweet, if you and me go on, we've got so much that we've got to do, we're just a little boy and girl that we want to see, we're just a boy and a girl that we want to see, we're just a boy and a girl that we want to see, we're just boys that want to see the real look, we're just boys that, we're just boys that we want to see, we're just boys that want to see the right look, you take a girl, you take a boy, you take a girl, you take a boy, you take a girl, you take a boy, you take a boy, you take a girl, take a girl, you take a boy who you can love, take a girl, take a boy you can love, take a girl, take a boy you like, take a boy, you take a girl you like, take a girl, take a boy you like, take a boy, you take a girl you like, i'm just a boy, i just wanna know, can i take a boy for just one night?, can i take a boy for just one night?, i know that you wanna come, can i take a boy for just one night?, is that all?, can i put a ring in your ear?, can i take a boy and turn about?, can i take a boy, take a boy for just one night?, take a boy, take a boy for just one night, i know that this time we go this far, can i take a boy for just one night, i know that you wanna come, can i take a boy for just one night, can i take a boy\n",
            "\n",
            "[650 | 726.38] loss=2.91 avg=2.54\n",
            "[700 | 770.66] loss=2.06 avg=2.50\n",
            "======== SAMPLE 1 ========\n",
            ", a man can love you like i do, he can love you like i do, he can love you like i do\"\n",
            "\"now i'm on the first of a long road, the second of a slow journey, from the start, on the third of a long journey, when you're on the phone, the fourth of a long journey, you'll be alright when i've got to say goodbye, to the seventh of the line, to the first of a long journey, for the sake of tomorrow, i'm on the second of a deep blue, i'm still in control, and my dreams, are finally here, the sun's down as i'm making my way, i'm on the third of a long journey, now I'm on the second of a deep blue, and the world, is coming on my fourth, as you wake to me in the night, and i'm on the third of a long journey, i'm on the third of a long journey, i'm on the last of a long road, the fourth of a long journey, from the start, to the last of a long journey, when you make me stop, and i make you start again, when you say goodbye, to the seventh of the line, and i'm on the fourth of a long journey, when you're on the first of a long journey, oh, and when we walk, i can't go no more, and the world is coming on, the sun's down as i'm making my way, oh, i'm on the third of a long journey, now i'm on the second of a deep blue, now i'm making it on my own, and i'm making it on my own, oh, and when we walk, i can't go no more, oh, the world is coming on my fourth, oh, when you say goodbye, to the seventh of the line, oh, and when we walk, i can't go no more, oh, when we walk, i can't go no more; oh, when you say goodbye, to the seventh of the line.\"\n",
            "\"happiness, i know it's hard to believe, and i know it's hard to believe, but, i know i'm supposed to be, in the end, i know it's hard to believe, but, i know i'm supposed to be, in the end, i know it's hard to believe, and i know it's hard to believe, and i know it's hard to believe\"\n",
            "\"my heart is here, my hand is there, it's a good thing, cause i feel like we're here, my heart is here, my hand is there, it's a good thing, cause i feel like we're here, i feel like we're here, i feel like we're here, i feel like we're here, i feel like i see you now, i feel like we're here, i feel like we're here, i feel like we're here, i feel like we're here\"\n",
            "\"baby on this night i, i'm leaving, i'm making a break from you, i'm breaking these legs, from the pain, from the pain, from the pain, from the pain from the pain, from the pain, from the pain from the pain, from the pain, from the pain, from the pain, from the pain, from the pain of the pain, from the pain of the pain, from the pain of the pain, from the pain\"\n",
            "\"your eyes close, and you don't want to know what they don't show you, your body turns from the light, so long just to watch, the world change, so i can see you, you're alone without you now, so long just to watch, the world change, and it feels right, but sometimes, there's nothing left, just let me know, my body turns from the light, so long just to watch, the world change, so i can see you, you're alone without you now, so long just to watch, the world change, just let me show, my beauty, i can't hide what you see, my body turns from the light, so long just to watch, and it feels right, but sometimes, there's nothing left, just let me know, i can't hide what you see, just let me show, my beauty, i can't hide what you see\"\n",
            "\"i've been alone, i've been alone, i've been alone, i've been alone, i've been alone, and i don't know why, in the end, when i'm lonely, i'm alone, i've been alone, and i don't know why, how lonely, and when i feel lonely, i don't know how, i don't know where, because you've got me trapped, in, the world i don't know how\"\n",
            "\"there's nothing to do, i've been alone, i've been alone, in a new\n",
            "\n",
            "[750 | 836.52] loss=1.97 avg=2.46\n",
            "[800 | 880.75] loss=2.23 avg=2.45\n",
            "======== SAMPLE 1 ========\n",
            " blinds, i've felt them before, i had them first hand, now i'm taking them back for more, so why, won't i take them back when, i've been through it all, the way i was with you all this time, now i've found i could be much happier, i know that i was wrong all these years, so i'm getting better now, and better still, better still, better still, better still, don't you wanna take me back to your love, come and hold me now, better still, better still, better still, better still, better still, please, don't leave me all alone, tell me what's done and what's to come, better still, better still, better still, better still, better still, better still, better still, better still, better still, better still, better still, better still, better, let me take me back, the best that i've tried, better than i've been trying to, better still, better still, better still, better still, better still, better still, better still, better still, better still, better still, better for you, better, better, better for you, better for you, better\"\n",
            ",\"good to meet you again, glad to see you again, glad to see you again, but i wonder to myself if i was really the one that you thought i am, can i tell you i was really the one you tried, i thought i had a lot to prove, tell me i've got to keep my head up high, i'm telling you now that i really want to hear your voice, 'cause every time i close my eyes, i dream of what i'd be like, i never thought that i'd be happy, well i'm here to tell you i can see, that the way i want to be today is, can i feel the same way i am today, i know that i've got all the strength i need, tell me you're in love, tell me you've felt that way before, you just need to tell me, can i tell you i was really the one you thought i am, can i tell you i was really the one who tried to be the one you wanted, can i tell you i've got to keep my head up high, i'm telling you now that i really want to hear your voice, 'cause every time i close my eyes, i dream of what i'd be like, i never thought that i'd be happy, well i'm here to tell you i can see, that the way i want to be today is, better still, better still, better still, better still, better still, better than you, better still, better than you, better than you, better than you, better than you, better than you, better than you, better than you, better than you, better than you, better than you, better than you, better than you, better than you, better than you, better than you, better than you, better than you, better than you, better than you, better than you, better than you, better than you, better than you, better than you, better than you, better than you, better than you, better than you, better than you, better than you, better than you\"\n",
            "\"this is the place where we meet, now we have gone beyond the point of no return, we are always the same, this is the place where we meet, tell me what happens, tell me what they do, tell me what they do to you, tell me who is your match, tell me what a friend i have, tell me what a true ally i am, no matter what i say, there is no end to the madness i see, this is the place where we meet, now we have moved beyond the point of no return, tell me what happens, tell me what they do, tell me what they do to ya, tell me who is your match, tell me what a friend i have, tell me what a true ally i am, no matter what i say, there is no end to the madness i see, this is the place where we meet, now, tell me what you think, tell me what you think, tell me what you see, this is the place where we meet, now we have gone beyond the point of no return, tell me what happens, tell me what they do, tell me what they do to ya, tell me who is your match, tell me what a friend i have, tell me what a true ally i am, no matter what i say, there is noend to the madness i see, this is the place where we meet, tell me what happens, tell me what they do, tell me what they do to ya, tell me who is your match, tell me what a friend i have, tell me what a true ally i am, no matter what i say, there is no end to the madness\n",
            "\n",
            "[850 | 946.41] loss=1.94 avg=2.42\n",
            "[900 | 990.61] loss=2.24 avg=2.40\n",
            "======== SAMPLE 1 ========\n",
            " we will be. with all the world's love and every wish on our hearts, we are always one, one. with all the love and every wish on our hearts, we are always one, one. with all the love and every wish on our hearts, we are always one, one. with all the love and every wish on our hearts, we will be one. with all the love and every wish on our hearts, we will be one, one. with, with all the love and every wish on our hearts, we are always one, one. with all the love and every wish on our hearts, we are always one, one. with all the love and every wish on our hearts, we are always one, one. with all the love and every wish on our hearts, we are always one, one. with, and with all the love and every wish on our hearts, we will be one, one, that we will be, one, one, one. with all the love and every wish on our hearts, we are always one, one, one. with all the love and every wish on our hearts, we will be one, one. with all the love and every wish on our hearts, we will be one, one, one, one, one,, one, one, one, one, one, one, one, one, one. with all the love and every wish on our hearts, we will be one, one, one, one, one, one, one, one, one, one, one\"\n",
            "\"oh, you must know we're not the biggest ones, we're good with ourselves, oh, we're just kidding, there won't be too many of us around, we're good by ourselves, they said you would never get up in my bed, how can i find you here, you're so far from my bed, can i leave for now, no, don't wanna, i want to be alone, oh, come on, i want to hear you say, i know it's a bad sign, i thought you heard what i'm saying, but you didn't listen and your eyes were out for, you think you'll hurt a little girl, you don't wanna hurt me, tell you she can't find me, i got a lot of you to do it, and you think you'll hurt me, she won't find me, it's hard to think about love, but you do, you think you'll hurt a little girl, i know you're so far away, you think you'll hurt me when i stay, you think you'll hurt me when i stay, they said you would never get up in my bed, how can i find you here, you're so far from my bed, they said you would never get up in my bed, but for someone like you, i know you'll never stay here, i said, you can be sure that i will find you, don't wanna worry baby, i want to come back to you, don't wanna worry baby, i want to come back to you, for someone like you, i know you'll never stay here, i said, you can be sure that i will find you, don't wanna worry baby, i'm gonna find you on the way, but you know i don't wanna go, oh, you'll never stay here, the love between us is just like a diamond, i know i gotta get back to you, don't wanna worry baby, and you know i don't wanna go, all the other nights are my last before i go home, i know you wanna stay with you, you know you know i don't wanna leave, do you know i don't wanna go, but you say you'll go, you know i don't wanna come home, do you know i don't wanna come home, do you know i don't wanna go, but i know you, oh, it's hard to take in the way i see it, the kind of love that's made for someone like you, all the other nights are my last before i go home, and your feet tell you we won't last forever, do you know i don't wanna come home, do you know i don't wanna come home, but i know you, and i know me, oh, it's hard to think about love, but you do, and i know you, and i know you, and i know you, and i know you, for someone like you, and i know you, and i know you, and i know you, and i know you, and i know you, and i know you, and i know you, and i know, and i know you, and i know you, and i know you, and i know. oh, if i told you, you see i know you just say, that you think you'll make somebody, jealous, but i know that you don't mean no harm, and i want to know that you\n",
            "\n",
            "[950 | 1056.24] loss=2.16 avg=2.39\n",
            "[1000 | 1100.52] loss=2.04 avg=2.37\n",
            "Saving checkpoint/pop_train/model-1000\n",
            "WARNING:tensorflow:From /tensorflow-1.15.0/python3.6/tensorflow_core/python/training/saver.py:963: remove_checkpoint (from tensorflow.python.training.checkpoint_management) is deprecated and will be removed in a future version.\n",
            "Instructions for updating:\n",
            "Use standard file APIs to delete files with this prefix.\n"
          ],
          "name": "stdout"
        }
      ]
    },
    {
      "cell_type": "code",
      "metadata": {
        "id": "nxQY8vafjxsk",
        "colab_type": "code",
        "outputId": "be3f39b9-57d5-45ea-8a89-342f563eb801",
        "colab": {
          "base_uri": "https://localhost:8080/",
          "height": 187
        }
      },
      "source": [
        "!zip -r \"/content/drive/My Drive/pop_train.zip\" \"/content/checkpoint/pop_train/\""
      ],
      "execution_count": 0,
      "outputs": [
        {
          "output_type": "stream",
          "text": [
            "  adding: content/checkpoint/pop_train/ (stored 0%)\n",
            "  adding: content/checkpoint/pop_train/vocab.bpe (deflated 53%)\n",
            "  adding: content/checkpoint/pop_train/model-1000.index (deflated 66%)\n",
            "  adding: content/checkpoint/pop_train/checkpoint (deflated 40%)\n",
            "  adding: content/checkpoint/pop_train/model-1000.data-00000-of-00001 (deflated 7%)\n",
            "  adding: content/checkpoint/pop_train/events.out.tfevents.1584800539.bc3b8287c31c (deflated 61%)\n",
            "  adding: content/checkpoint/pop_train/counter (stored 0%)\n",
            "  adding: content/checkpoint/pop_train/model-1000.meta (deflated 92%)\n",
            "  adding: content/checkpoint/pop_train/encoder.json (deflated 67%)\n",
            "  adding: content/checkpoint/pop_train/hparams.json (deflated 33%)\n"
          ],
          "name": "stdout"
        }
      ]
    },
    {
      "cell_type": "code",
      "metadata": {
        "id": "en7DnZkwUL8e",
        "colab_type": "code",
        "colab": {}
      },
      "source": [
        "rock_model = gpt2.start_tf_sess()"
      ],
      "execution_count": 0,
      "outputs": []
    },
    {
      "cell_type": "code",
      "metadata": {
        "id": "6gkiDuikTzth",
        "colab_type": "code",
        "outputId": "f8cbaab8-66bf-431c-ccb1-d9d80e23a331",
        "colab": {
          "base_uri": "https://localhost:8080/",
          "height": 1000
        }
      },
      "source": [
        "gpt2.finetune(rock_model,\n",
        "              dataset='rock.txt',\n",
        "              model_name='355M',\n",
        "              steps=1000,\n",
        "              restore_from='fresh',\n",
        "              run_name='rock_train',\n",
        "              print_every=50,\n",
        "              sample_every=100,\n",
        "              save_every=500,\n",
        "              )"
      ],
      "execution_count": 0,
      "outputs": [
        {
          "output_type": "stream",
          "text": [
            "WARNING:tensorflow:From /usr/local/lib/python3.6/dist-packages/gpt_2_simple/src/sample.py:17: where (from tensorflow.python.ops.array_ops) is deprecated and will be removed in a future version.\n",
            "Instructions for updating:\n",
            "Use tf.where in 2.0, which has the same broadcast rule as np.where\n",
            "WARNING:tensorflow:From /usr/local/lib/python3.6/dist-packages/gpt_2_simple/src/memory_saving_gradients.py:62: get_backward_walk_ops (from tensorflow.contrib.graph_editor.select) is deprecated and will be removed after 2019-06-06.\n",
            "Instructions for updating:\n",
            "Please use tensorflow.python.ops.op_selector.get_backward_walk_ops.\n",
            "Loading checkpoint models/355M/model.ckpt\n",
            "INFO:tensorflow:Restoring parameters from models/355M/model.ckpt\n"
          ],
          "name": "stdout"
        },
        {
          "output_type": "stream",
          "text": [
            "\r  0%|          | 0/1 [00:00<?, ?it/s]"
          ],
          "name": "stderr"
        },
        {
          "output_type": "stream",
          "text": [
            "Loading dataset...\n"
          ],
          "name": "stdout"
        },
        {
          "output_type": "stream",
          "text": [
            "100%|██████████| 1/1 [00:25<00:00, 25.74s/it]\n"
          ],
          "name": "stderr"
        },
        {
          "output_type": "stream",
          "text": [
            "dataset has 5232847 tokens\n",
            "Training...\n",
            "[50 | 52.94] loss=3.52 avg=3.52\n",
            "[100 | 97.13] loss=2.41 avg=2.96\n",
            "======== SAMPLE 1 ========\n",
            " lot, but we can't take the beating of our enemies.\n",
            "\"What are you, dreaming of, what are you, dreaming of?, what are you, dreaming of?, what are you, dreaming of?, what are you, dreaming of?, what have you done for me?, why can't we let this go?, we're no more the good guy, but what are you, dreaming of\"\n",
            "\"what are you, dreaming of?, what are you, dreaming of?, what are you, dreaming of?, what are you, dreaming of?, what are you, dreaming of?, what are you, dreaming of?, what are you, dreaming of?, what are you, dreaming of?, what are you, dreaming of?, what are you, dreaming of?, what are you, dreaming of?\"\n",
            "\"i am the night, the sky is heaven, the moon is a light, the day is the night, the night is the sun, it can't be the same place every night, so why don't i sing again?, what makes a sound?, the wind blow, i am you, i can't say no, don't i breathe?, i will try this again, i'll try it again, i'll try it again, i won't let it fade away, i'm the one that should know, what i am, what i do i feel, i am the night, i'm the sky is heaven, it can't be the same place every night\", you never look at me now, you never listen to me now, i don't need to know what i am, you never listen to me, i don't need to know what i do, i'm the one that should know - what i do, it just keeps on falling for you, i don't need to know what i am, i haven't got to know what i am, i have got to know what i do, i'll try again, i'll try again, i'll try again, i won't let it fade away, i'm the one that should know\"\n",
            "\"goodbye, i thought that i've been a good little man, but i guess it didn't mean much, and i always think i'd see you again, i guess you don't even know me?, i guess your not really the same man, what's the point, i am, where they say a good man doesn't come, i really don't know, i guess the world's better to be free, i'm just a nice, little man, what's the point?, just like the bad one did, i don't know, so why even ask, is it just a small taste or what?, i guess I can't get to know, i guess you don't even know me?, i guess your not really the same man, what's the point?, i'm not just a little, i'm not just a nice, little man, i've always tried to do, just to know, but, i can't get to know, i couldn't get to know, i guess, that they're just right out of reach, i ain't a nice to be around, i'm just a little\"\n",
            "\"what are you, dreaming of?, what are you, dreaming of?, what am i, dreaming of?, what am i, dreaming of?, what am i, dreaming of?, what am i, dreaming of?, what am i, dreaming of?, what am i, waking of?, what am i, waking of?, what am i dreaming of?, what am i, dreaming of?, what am i, dreaming of?, what am i, dreaming of?, what am i, dreaming of?, what am i, dreaming of?\"\n",
            "\"we're going crazy and we're going crazy, what am i, what am i now, what am i, what are you, dreaming of?, what am i, what am i now, what am i, what am i now, what am i, what am i now, what am i now, what am i, where are you, dreaming of?, what am i now, what am i, what am i, what am i am, what am i now, what am i, what am i now, what am i, what am i am, what am i now, what am i, what am i now\"\n",
            "\"hush, there, listen to me, we're all in the sun, you like the cold, it's the night, we can see the light, and there's a light, all around, i like the sound, but i don't love the sky, when i close the door, i don't want to see, i just want to breathe, there's a little black, on the porch, so let's step outside, let's step outside, let's put our shoes on the wall, let's step inside, in, in, we're out on the porch, not the sound, there's a little, black, on the porch, so let's step\n",
            "\n",
            "[150 | 166.23] loss=2.62 avg=2.85\n",
            "[200 | 210.42] loss=2.52 avg=2.77\n",
            "======== SAMPLE 1 ========\n",
            " all my thoughts are going in circles and a lot of the time, everything is just a lie, and i don't want to have a bad life, i want to forget what's in between me and this life, every thought i'm just a part of this, that's just an illusion, what i want to forget about, what you're saying, it's just a lie, i don't know what to say, you don't understand, what it's come to, is just one lie, that's just an illusion that's just another lie\"\n",
            "\"i'll take what i need to take, why i'd do what i did, you're so hard to deal with, you have no idea what you're doing, you're a mess of a man, so why all the rage and heartache?, but i'm the reason reason cause, why you'll blow you to smithereens?, if you keep your head down and stay a bad man, you'll get your head kicked by my sister i'm so glad i'm alive, for me your eyes don't lie, so go away boy why don't you, don't give up why don't you you, i'm getting a hell of a cold feeling in my mouth, you've seen that you've got no use for me, why your just wasting my time, if i would just leave my life alone why does it seem so impossible?, why can't i just take this pain that i should have given, why does it seem like i'm the only one, out to fix this, it hurts like a knife in your throat why doesn't it seem so easy?, why does it seem so easy?, why doesn't it seem so easy?, why doesn't it seem so easy?, why doesn't it seem so easy?, why does it seem like i'm the only one?, out to fix this pain that i should have given?, why does it seem like i'm the only one out to fix this pain that you should have given?, why does it seem like i'm the only one out to fix this pain that you should have given?, why does it seem like i'm the only one out to fix this pain that you should have given?, why does it seem like i'm the only one out to fix this pain that you should have given?, why does it seem like i'm the only one?\"\n",
            "\"i'm glad you feel better, i've found my place behind you, i don't care if everyone is out to be your enemies, i'll stand up for this man i don't know why he needs me, if i couldn't survive, could i, i'd be your brother, i won't die for you, why can't you see you can't fight, i'll stand in the way, if i could be your shield, i won't break, i'll stand up for you, why can't you see you can't fight?, i'll stand up for you, why can't you see you can't fight?, i'll stand up for you, i can't see what you see, i can't see what they say, i can't see what you do, i can't understand just why, you keep fighting, you hold back when you're afraid, you run before what you're supposed to be, you keep fighting, you hold back when you're afraid, you run before what you're supposed to be, you're a coward, why can't you see you can't fight?, i'll stand in the way, if i could be your heart, i won't break, i'll stand up for you, why can't you see you can't fight?, i'll stand up for you, why can't you see you can't fight?, i'll stand up for you, why can't you see me?, i'm not the one you're not gonna be, and i'm not the one you'll never be, i'm just hoping your better than your worse, why can't you see you can't fight?, i will stand up for you, why can't you see you can't fight?, i will stand up for you, i'm a coward, I guess i just don't know what i'm doing, why can't you see you can't fight?, i will stand up for you, can't you see what you can't stand, can't you see that you can't run, why can't you see that you can't run, will stand up for you, won't you see what you'll never be, won't you be the best thing that you can be?, i have a dream, i feel, i will feel, i will love, i will cry, i will lie, i won't run, i will stand, will fight, won't you see just how hard you can take, everything i know, i don't know what i'm doing, i don't know what i'll do, my head is spinning, my eyes are closed, i don't know what i won't do\n",
            "\n",
            "[250 | 276.14] loss=2.79 avg=2.77\n",
            "[300 | 320.33] loss=3.45 avg=2.89\n",
            "======== SAMPLE 1 ========\n",
            ", no man has no place and i'll never see my sister again, but she's no one's fault, it's been a while, but her eyes are starting to close up, and my blood in a river, and i could have been a part of it, i've grown a lot, there's nothing that i know of, i just keep repeating the words \"go ahead and go down, i'm gonna get back to you all alone, i can see her tears welling up, and the way her eyes start to close up again, i'm gonna try 'cause i need an old man's car, if i can be a part of it, it's been a while, i've been so hard, but she's no one's fault, it's been a while, but her eyes are starting to close up, she tears well up again, and i keep repeating the words: you'll never be the same\"\n",
            "\"they look at me, but they don't know it's me, i'm just another victim, i'm just another victim, i'm just another victim, they see their victim and it haunts them, but they can't blame it anymore, they're scared they'll never be free, they're scared they'll never be left alone\"\n",
            "\"you've never been more wrong than i have, oh, you know what i'm afraid of, you can't feel the same pain, then you see me crying, and my blood, and my tears, and you know what i'll have to do, to take it all, you can't say it's a lie i lied, oh, i can't be a part of it, oh, i'm gonna get back to you all alone, i can see her tears welling up again, and i keep repeating the words: you'll never be the same\"\n",
            "\"i'm a man of my word, i have a job to feed, you never know where i'm going, i'm gonna get back to you all alone, i can feel her tears welling up again, i'm gonna try to take it all all, i'm gonna get my revenge, get my revenge, get my revenge, i am a god, yeah, i'm the God, i'm a man, this is, i am the god, don't pretend, i'm not, i'm not good man, no man has no place and i'll never see my sister again, but she's no one's fault, it's been a while, but her eyes are starting to close up, and my blood in a river, and i could have been a part of it, i've grown a lot, there's nothing that i know of, i just keep repeating the words, there's no place, you never know where i'm going, i'm gonna get back to you all alone\"\n",
            "\"i've been walking and i've been doing it all, i've been reading every book i know, i've been trying to read the papers, and talk to some girls, a lot of girls I don't know, i've been searching for something in a book, i've been trying to look after my health, i've been trying to find something good to say, to say goodbye to these girls, no, no, my soul, i'm no man of my word, no, no, no, my body, i'm not a man, i'm not good at this, yeah, i'm not good at this, yeah, when i wake, i'd like to feel some good feeling that i'm somewhere, when i'm walking down the street, i don't know where i'm going, i'm gonna get back to you all alone\"\n",
            "\"i feel like i have to be strong, so i can stand on my own two feet, and i can have some peace in the place i used to call home, when the time comes, let me know if you've lost it, it's like a time flies when you're lost in your mind, when the time comes, let me know if you've lost it, i wanna go home now and i want to go home again, and i want to go home again, and i want to go home again, and i want to go home again, i wanna go home, i want to go home again, i wanna go home, i want to go home again\"\n",
            "\"i think i know what the best thing to do, is to walk, and i'll take you back, you'd have to take me all back, but if i can find you all, oh, let me go get it outta my head, i know, i know all i can ask for, i know i can say, can come off, but if i can, i want to be free, and i want you at my side, oh, let me go get it out of my head, i know, i know all i can ask for, i know i can say, can\n",
            "\n",
            "[350 | 385.94] loss=2.90 avg=2.89\n",
            "[400 | 430.20] loss=3.15 avg=2.92\n",
            "======== SAMPLE 1 ========\n",
            " should the end, it's time for the end, we all wanna go home, i'm calling the shots, i'm standing in the corner waiting, wait for the next thing to turn around, and you all look so peaceful, but i'm gonna give you a little lesson. no, nothing can stop me, i'll be just fine, and you all wanna go home, i'm calling the shots, i'm standing through the corner waiting, waiting for the next thing to turn around, and you all look so peaceful, but i'm gonna give you a little lesson. no, nothing can stop me, i'll be just fine, and you all wanna go home, i'm calling the shots, i'm standing through the corner waiting, waiting for the next thing to turn around, and you all look so peaceful, but i'm gonna give you a little lesson. no, nothing can stop me, i'll be just fine, and you guys wanna go home, i see you walking out there, i want to go home with you, and i look so peaceful but i'm gonna give you a lesson, i say no!, it's time for the finish, i say no!, it's time for the finish, a good fight, good fight, 'cause i say no!, it's time for the finish, i say no!, it's time for the finish, 'cause i say no!, it's time for the finish, 'cause i say no!, it's time for the finish, 'cause i say no!, it's time for the finish, 'cause i say no!, it's time for the finish, 'cause i say, no!, it's time for the finish, i say no!, it's time for the finish, 'cause i say no!, it's time for the finish, 'cause i say no!, it's time for the finish, 'cause i say no!, it's time for the finish, 'cause i say no!, it's time for the finish, 'cause i say no!, it's time for the finish, 'cause i say no!, it's time for the finish, 'cause i say no!, it's time for the finish, 'cause i say no!, it's time for the finish, 'cause i say no!, it's time for the finish, it's time for the finish, 'cause i say no!, it's time for the finish, 'cause i say no!, it's time for the finish\"\n",
            "\"come and play, you can have, you can have it all, yeah, come and play, have fun, you can have it all, now you gotta give, you gotta give it up, you gotta give it up, you gotta give it up, you gotta give it up in the way that i taught you to give up, you gotta give it up, all that's fair is fair, all that makes sense, everything that ain't mean, everything that ain't fair is fair, give it up, give it up, give it up, give it up, come play, give it up, give it up, give it up, give it up, give it up, give it up, give it up, give it up, give it up, come play, give it up, give it up, give it up, give it up, give it up, give it up, give it up, give it up, give it up, give it up, give it up, give it up, give it up, give it up, give it up, give it up, give it up, give it up, give it up, give it up, give it up, give it up, give it up, give it up, give it up, give it up, give it up, give it up, give it up, give it up, give it up, give it up, give it up, give it up, show off, show off, show off, show off, show off, show off, show off, show off, show off, come play, show off, show off, show off, show off, show off, show off\"\n",
            "\"i don't want you to see my heartbreak, when you just show up, and leave me out in the cold, if i see you coming, it won't be the ending, you let me be free tonight, the way you leave me, i will be a part of tonight, but you'll see, how i show what to you, i will come back, i will be a part of tonight, but you'll see, how i show what to you, and just leave me there, you know i don't care about being alone, but come and show me, just forget about your past, so you can tell me to show you, just show up, tell me you let me be free tonight, just say, i think of it, when you just turn around, just leave me out in the cold, if i see you\n",
            "\n",
            "[450 | 496.05] loss=3.29 avg=2.96\n",
            "[500 | 540.28] loss=2.64 avg=2.93\n",
            "Saving checkpoint/rock_train/model-500\n",
            "======== SAMPLE 1 ========\n",
            " it, just in case you're just the one in the room, you think you can use this, your life is not what it seems, can you imagine, you've never seen that, can you imagine i'm in the same frame?, when was the last time i got on i would, if you were my friend, i'd give you everything, but to give you what what?, you need me, you've got me inside my head, you've got me behind your eyes, you've got me in your head, they always try and push you down, you're so confused, you can't decide?, i'll never change, you always try and push me down, you need me to give you what?, you have me inside your head, just you, i just got me, just the one for the day, the best friends are all like me, just you, just you, the best friends are all like me, just you, the best friends, just you, just you, just you, just you, just you\"\n",
            "\"just a word, just a word, i don't know, just a word, a word, just a word, i hope you're the one who says, i want you to, a word, just a word, a word, you're the one who's mine, a word, just a word, a word, just a word, like the time after your turn, i'm your voice, just a good word, just a word, a day, like the time after your turn, like the time after your turn, just a words, just words, just words, i just say it to ya, just a word, just a word, a word, just a word, a word, just a word, a word, you're our voice, the best friends are all like me, i want ya, you'll always call me a bad word, you'll never be the one, you'll be only mine, you're the one\"\n",
            "\"if you give me a call, and i say yes, i just want her to be your friend, for one hour i'll be listening, for one hour i'll be talking, she'll be ready for whatever is coming, as long as your good enough to listen and to care about your life, i'll listen and talk to you, she'll be ready for whatever your life is, for one hour i'll be listening, for one hour i'll be talking, she'll be ready for whatever your life is, if you give me a call, and i say yes, i want her to be your friend, for one hour i'll be listening, for one hour i'll be talking, she'll be ready that you can't be, she'll be ready for whatever your life is, for one hour i'll be listening, for one hour i'll talk, she'll be ready for whatever your life is, if you give me a call, and i say yes, you'll always call me a bad word, you'll never be the one, you'll never be the one\"\n",
            "\"we need to stay and stay, so take a walk with the firewater, we are the only one, in the world, in the time where people are dying, it's your own, we are the only ones who will keep their lives alive, if we want to keep our life together, it's your own, our destiny, we can never go wrong, we can't have no peace, if we want to live together and die together, we can't have no unity, if we want to make it, our destiny, we can't take it away, if we think our lives are on the line, we can never get out, if we think they're gonna make a choice, it's our destiny, we have no choice, if we want to stay and die together, in the world, in the time where people are dying, it's your own, you're the only one who will keep your lives alive, if you want to keep your life together, it's your own, our destiny, we can never go wrong, we can't have no peace, if we want to live together, it's our own, our destiny, we can never go wrong, if we want to stay and die together, in the world, in the time where people were dying, it's your own, they're the only ones who will keep their life alive, if you want to keep your life together, it's your own, our destiny, we can never go wrong, if we want to live together and die together, our destiny, we can never go wrong, if we want to stay and die together, in the world, in the time when people will die and be killed, it's your own, the people who will do the killing, it's your own, our destiny, we get no peace\"\n",
            "\"we've never had time to say goodbye, we've never had time to say farewell, we\n",
            "\n",
            "[550 | 613.28] loss=2.06 avg=2.85\n",
            "[600 | 657.49] loss=3.60 avg=2.91\n",
            "======== SAMPLE 1 ========\n",
            " eyes there is a light, a light that i do want, i want it to come down, i want you back where we belong, i'm a boy i can be, you can be a boy too\"\n",
            ",\"the words of the dead don't matter any more. i'll be the one to love you forever, no one wants to care, who's the one who cares, you're the one who cares the least, you're the one who's all you're ever gonna be, you're the one who cares about all the ones i've never met, i'm dying for you, don't worry what's for. i'm dying for you, don't worry about the dying, i'm dying for you, we all die for someone else, i've made it, we all die for someone else, i've made it, we all die for someone else, you're the one who cares, you're the one who cares the least, i'm dying for you, you are, you are the person who cares about all the ones i've never met, you are, you are the person who cares about all the ones i've never met, all they see isn't all that i'm feeling right now, i'm dying for you, don't worry what's for. i'm dying for you, don't worry about the dying, i'm dying for you, we all die for someone else, i've made it, we all die for someone else, you're the one who cares, you're the one who cares the least,\"\n",
            ",\"you walk on the dark side of the moon, you're scared of a better life, there's love that is blind, you see the future, you see the end, you walk on the dark side of the moon, i walk on the dark side of the moon, and when i'm there you see my name, you don't need me anymore, you don't need anyone\"\n",
            ",\"there's a line in time you just can't see, so you try to take everything you want, and hold on forever, for this dream will never end, a thousand years from now, we'll be there, never knowing, for i must feel i'm here, forever and all, i walk on the dark side of the moon, and if you're there, you see the future, you do what you want, you'll never know, for in life we have lived, for ever more, forever and all, i walk on the dark side of the moon, and forever and all, forever and all, forever and all, forever and all,\",\"no, there's no reason to feel sorry for me, i'm not sorry, for that was the way it was, i am so afraid, the world is a long distance away, we must make it this time, for i must feel i'm here, forever and all, i walk on the dark side of the moon, forever and all, forever and all, forever and all,\",\"what is it i need to do, why must i be alone now, for life will not end, forever and all, forever & all\"\n",
            "\"now i'm at the end of our lives, now we'll only die alone, this is the end of our lives, there's just a way out of this, we're at the end of our lives, here we go, and for me, i'm alone, there's nowhere i can go, and for me, i'm alone, there's nowhere i can go, we're going on an empty road, we're going on an empty road, but it's alright, we're going on an empty road, we're going on an empty road, for me now i'm at the end of our lives, i can see myself in the mirror, and for me, i'm alone, there's nowhere i can go, and for me now i'm at the end of our lives, here we go, and for me, where are the people going, can someone please help with my head now, just for you, just for you, i'm alone, there's nowhere i can go, and for me, i'm alone, i won't be here here, for you\"\n",
            ",\"we take the road, we take it hard, in the dark, we see the light, we see, we see, we take our time, we take the road, we take the ride, we take it hard, for the road is so bright, to die in the road, to die in the road, i'm going down the road, for the road is so bright, i can't see through clouds, and they give me strength, the light of the highway, we can be free, we can survive, for the road is so bright, but we don't want to die like you do, the light of the highway, i am moving so fast, for the sun to show, to die in the road, i'm going down the road, for\n",
            "\n",
            "[650 | 723.59] loss=2.17 avg=2.85\n",
            "[700 | 767.85] loss=1.69 avg=2.76\n",
            "======== SAMPLE 1 ========\n",
            " what's not to love, no one around but me and you, in the back of my memory - when i'm gone i'll see you again, in the back of my memory - when i'm gone i'll see you again, in the back of my memory - when i'm gone i'll see you again, in the back of my memory - when i'm gone i'll see you again\"\n",
            "\"can't we meet at noon in the park, you're standing up from your seat here as if you don't care, you know you're making the arrangements but you just stand right there, you know you're making the arrangements but you just stand there, i can see you standing up from her chair, you know she's making the arrangements but you just stand there, you know you're making the arrangements but you just stood there, and she's making the arrangements but you just stand there, i can see you standing up from her chair, you know she's making the arrangements but you just stand there, you know you're making the arrangements but you just stand there, i can see you standing up from her chair, you know she's making the arrangements and i just stand there, i can see you standing up from your chair, you know she's making the arrangements, she just stand there there, i can see you standing up from your chair, you know she's making the arrangements, she just stand there there\"\n",
            "\"well, it's quite late in the evening, the lights are dim, so it's the perfect time for me to go, maybe you will miss me, you know i can't leave you, i know you need me here, when tomorrow comes i'm going, if tomorrow doesn't work out you'll just have to wait it out, i've got you now, well i'm sorry that i missed you, but you've had my heart, it's like that every night, you've got your eyes open, i'm the only one who sees me, i keep it alive, i'm the only one who doesn't fade or fade away, well, i just have to say, well, i just had to say, well, i just had to say, i just had to say, well, i just have to say this, goodbye, and goodbye, goodbye, goodbye, goodbye, goodbye, goodbye, goodbye, goodbye, goodbye, goodbye, goodbye, goodbye, goodbye, goodbye, goodbye, goodbye, goodbye, goodbye, goodbye, goodbye, goodbye\"\n",
            "\"what do you mean about a little thing you call my friend i'll never lose, or you can take me anywhere i've ever been this is the only way i'll ever leave, and it doesn't matter if our relationship is a bad thing now we're happy today's the day i'll talk about me, well i got a little thing that i like, it's no secret that i like, it's a thing, it's a thing, it's a thing that i think is cute, but i can't help but to say it's me, well, i got a little thing that i like, it's no secret that i like, it's a thing, it's a thing that i think is cute, but i can't help but to say it's me, i got a little thing that i like, it's no secret that i like, it's a thing, it's a thing, it's a thing that i think that we should hang on to, well in an awkward situation we used to make a little thing out of me, but i know now i will always be my best friend, and it's the reason why i feel safe inside, if you could show me the reason to be, i'd never change, i got a little thing that i like, it's no secret that i like, it's a thing, i think it's cute, but i can't help but to say it's me, i got a little thing that i like, it's no secret that i like, it's a thing, it's a thing you'll love me even though you can't hold me, in a certain way it's my friend that i'm hanging on to, and the reason why i feel safe inside, if you could show me the reason to be, i'd never change, i got a little thing that i like, it's no secret that i like, it's a thing, it's a thing, it's a thing you won't find a better one, in a certain way so much i do like, but i'm no longer so comfortable in my own skin, i get the butterflies i don't get the butterflies i don't get the butterflies i don't get the butterflies i don't get the butterflies i don't get the butterflies i don't get the butterflies i don't get the butterflies i don't get the butterflies i don't get the butterflies i don't get the butterflies i don't get the butterflies i don't get the butterflies i don't get the\n",
            "\n",
            "[750 | 833.73] loss=2.18 avg=2.72\n",
            "[800 | 877.95] loss=3.68 avg=2.79\n",
            "======== SAMPLE 1 ========\n",
            " of what will be remembered. i see the signs for what will soon be forgotten. my eyes have been blinded by a smile and a cry of joy, I have never lost my faith. this will remain for all time, in the end of times.\"\n",
            "\"this place is the heart, and the heart is the heart of the night, we've grown together and now we stand for peace of mind. to have faith in someone. the sky, the sea, the sky, the sea, the sky, the sea, the sea, the sea, the sea, the sea of dreams, the sea of dreams, the serenade, of dreams, we used to be, the night, we used to be, the night, the sunrise, of dreams, the night, the sunrise, of dreams\"\n",
            "\"i don't need your love, i don't need your heart, i don't need your kind, I use my eyes to see, 'cause the sky's going low?, i'm out to drown, if you never hear from me, if you don't come back to me, you're my only person, we live in the world of memories, we live in the worlds of memories, we live in the worlds the memories, we live in the worlds of memories, i don't need your love, i don't need your heart, i don't need your kind, i use my eyes to see, 'cause the sky's going low?, i'm out to drown, the sun's never set on this earth, 'cause the sun's never set on this earth, i'm out to drown, this is it for me, for all of its beauty we're not alone, i don't need your love, i don't need your heart, i don't need your kind, i use my eyes to see, 'cause the sky's going low?, i'm out to drown, i don't need your love, i don't need your heart, i don't need your kind, i use my eyes to see, 'cause the sky's going low?, i'm out to drown, it's always been this way since the day we met, i'm out to drown, your love never made it this way, when i was a child, my dad would always take care of me, my mom would always be there to hold my hand, our life was a story like the stars in the sky, i know you could be all you need, i don't need your love, i don't need your heart, i don't need your kind, i use my eyes to see, 'cause the sky's going low?, i'm out to drown, i don't need your love, i don't need your heart, i don't need your kind, i use my eyes to see, 'cause the sky's going low?, i'm out to drown, i don't need your love, i don't need your heart, i don't need your kind, you use your eyes to see\"\n",
            "\"the truth is, you're not alone, you were waiting on the other side, here i stand again, your hands are tied, this ain't over, my eyes are closed, i'm waiting for someone to make me feel, please don't go alone now, so when your friend comes calling, you'll be at the gates of paradise, waiting for your friend, don't be too late when your friend comes, to take me back or not to take me back, 'cause it sure ain't over now, for everything we were meant to be, i won't ever forget, you and i, we will always love to see us live this life away from our homes, i'm ready to say, you and i, you are one life above, we will always love to see us live this life away from our homes, we do know that our lives are meant to be, just not to be together, let's go, let our friends say when you say when you say, that i'm gonna be okay, 'cause it sure ain't over now, but for everything we were meant to be, i won't ever forget, you and i, we will always love to see us live this life away from our homes, i'm ready to say, you and i, you are one life above, we will always love to see us live this life away from our homes, you and i, you are one life above, we will always love to see us live this life away from our homes\"\n",
            "\"there is no time for the times to be wasted, i can say when we're getting nowhere, the only way can we know, we always know that i could do this, all the thoughts we never had before, are being torn apart by your heart, i know you can't make up your mind and be sure, you'd do so many things i'd do for you, but i can tell you when to fight, this is the last time you'll ever know, i'm\n",
            "\n",
            "[850 | 943.11] loss=2.44 avg=2.76\n",
            "[900 | 987.35] loss=4.00 avg=2.84\n",
            "======== SAMPLE 1 ========\n",
            " when you're the leader, he'll always be your god, he's always the one to call, if you're a singer, don't go into the stage, he's just as good, it's not to late, i don't know if i can make time, no one ever wants to know, 'cause now i'm living my life as a man, but i'm living in the house next door, I'm the one you need if you need me, now i'm living my life as a man, no, i'd never listen to another, who knows how far i can push, but i can't turn around fast enough, because i don't seem to hear, i don't know if i can make time, no one ever wants to know, 'cause now i'm living my life as a man, i'm living in the house next door, he's the one who's got it made, oh, never had another, who knows how far i can push, but i can't seem to hear, when i'm living my life as a man, oh, he's the one to call\"\n",
            "\"i got a message for you, i got a message for you, i got a message for you, if it's time, it's now, i got a message for you, i got a message for you, i got a message for you, got a message, i got the message i sent to your heart, i got the message,\"\n",
            "\"you know i can never ever see you, i've been out till a week and it won't bring back my old heart, you can see just a few lines, a few lines of you here and there, but you can't read me, there's a reason, why they keep calling, my body needs to be open, and let's be as truthful as possible, and all i can say to you, can't tell you what i feel tonight, there's a reason why they keep calling, my body needs to be open, and let's be as truthful as possible, and all i can say to you, you see and hear, i'll be up to something, if i feel as though it's time, or it's no longer, i can't explain the reason, but when somebody's asking me some new questions, my life just don't go, and it's a good night, i've been out, and it's a good night, i've been out till the a.m. i've been out tonight, and it's a good night, my body needs to be open, and let's be as truthful as possible, and all i can say to you\"\n",
            "\"i've never seen the man that i used to be, i'm in the right place at the right time, i'm glad i got the right one, glad i never let go, glad that person was there, glad there was anyone else, who, who, who i could have been, glad i had a new feeling, i'm glad i've been here, i'm glad there was someone besides you and me, glad i never let go, glad i never let go, glad he came around, glad i had the right one, i said glad i never let go, glad i finally found someone else, but now they're gone, let's take it all in, let's take that person, let's take all of this in, i'm glad i have his person, i'm glad he's here, i'm glad i'll never let go, glad i've come around, glad we're here, i'm glad who ever heard me, glad happy i've been here, glad i always was right, glad i never let go, glad glad glad i keep on keeping on, so why the hell can't i just let go, glad happy happy life, glad you found me so glad, glad it turns out to be right, glad happy happy happy life, glad you always been right, glad the life is all right\"\n",
            "\"i am glad you've found, a new one to hold in your arms, i am glad and glad you've found, a love of your life, all to yourself, i am glad it's now your only, i am happy for you, i am glad it's now your only, my heart is aching for you, i am glad there is someone else left, i am glad i'm alone, in my life i'm glad to see, a joy and a bliss, i am glad it is here to stay, i am glad it's now your only, i am happy for you, i am glad it's now your only, my heart is aching for you, i am glad there is someone else left, i will say, how the heaven's great love, how can I explain, your love and tenderness, please don't ever go, how could i have such a sweet heart, i will say, why the heaven's great love, how can i explain,\n",
            "\n",
            "[950 | 1052.71] loss=2.49 avg=2.82\n",
            "[1000 | 1096.98] loss=1.73 avg=2.76\n",
            "Saving checkpoint/rock_train/model-1000\n",
            "WARNING:tensorflow:From /tensorflow-1.15.0/python3.6/tensorflow_core/python/training/saver.py:963: remove_checkpoint (from tensorflow.python.training.checkpoint_management) is deprecated and will be removed in a future version.\n",
            "Instructions for updating:\n",
            "Use standard file APIs to delete files with this prefix.\n"
          ],
          "name": "stdout"
        }
      ]
    },
    {
      "cell_type": "code",
      "metadata": {
        "id": "WvKG-R2JT3xi",
        "colab_type": "code",
        "outputId": "9c17969f-77c6-40fd-8081-fc50893a0cc1",
        "colab": {
          "base_uri": "https://localhost:8080/",
          "height": 255
        }
      },
      "source": [
        "!zip -r \"/content/drive/My Drive/rock_train.zip\" \"/content/checkpoint/rock_train/\""
      ],
      "execution_count": 0,
      "outputs": [
        {
          "output_type": "stream",
          "text": [
            "  adding: content/checkpoint/rock_train/ (stored 0%)\n",
            "  adding: content/checkpoint/rock_train/vocab.bpe (deflated 53%)\n",
            "  adding: content/checkpoint/rock_train/model-390.index (deflated 66%)\n",
            "  adding: content/checkpoint/rock_train/model-1000.index (deflated 66%)\n",
            "  adding: content/checkpoint/rock_train/checkpoint (deflated 40%)\n",
            "  adding: content/checkpoint/rock_train/events.out.tfevents.1584803927.bc3b8287c31c (deflated 62%)\n",
            "  adding: content/checkpoint/rock_train/model-1000.data-00000-of-00001 (deflated 7%)\n",
            "  adding: content/checkpoint/rock_train/model-390.data-00000-of-00001 (deflated 7%)\n",
            "  adding: content/checkpoint/rock_train/model-390.meta (deflated 92%)\n",
            "  adding: content/checkpoint/rock_train/counter (stored 0%)\n",
            "  adding: content/checkpoint/rock_train/model-1000.meta (deflated 92%)\n",
            "  adding: content/checkpoint/rock_train/events.out.tfevents.1584802947.bc3b8287c31c (deflated 61%)\n",
            "  adding: content/checkpoint/rock_train/encoder.json (deflated 67%)\n",
            "  adding: content/checkpoint/rock_train/hparams.json (deflated 33%)\n"
          ],
          "name": "stdout"
        }
      ]
    },
    {
      "cell_type": "code",
      "metadata": {
        "id": "5e4uo6l_UNp3",
        "colab_type": "code",
        "colab": {}
      },
      "source": [
        "urban_model = gpt2.start_tf_sess()"
      ],
      "execution_count": 0,
      "outputs": []
    },
    {
      "cell_type": "code",
      "metadata": {
        "id": "rUq6uoJUT4Jj",
        "colab_type": "code",
        "outputId": "82afd7c2-7d62-494e-f65a-ce2298dd3fc9",
        "colab": {
          "base_uri": "https://localhost:8080/",
          "height": 1000
        }
      },
      "source": [
        "gpt2.finetune(urban_model,\n",
        "              dataset='urban.txt',\n",
        "              model_name='355M',\n",
        "              steps=1000,\n",
        "              restore_from='fresh',\n",
        "              run_name='urban_train',\n",
        "              print_every=50,\n",
        "              sample_every=100,\n",
        "              save_every=500,\n",
        "              )"
      ],
      "execution_count": 0,
      "outputs": [
        {
          "output_type": "stream",
          "text": [
            "WARNING:tensorflow:From /usr/local/lib/python3.6/dist-packages/gpt_2_simple/src/sample.py:17: where (from tensorflow.python.ops.array_ops) is deprecated and will be removed in a future version.\n",
            "Instructions for updating:\n",
            "Use tf.where in 2.0, which has the same broadcast rule as np.where\n",
            "WARNING:tensorflow:From /usr/local/lib/python3.6/dist-packages/gpt_2_simple/src/memory_saving_gradients.py:62: get_backward_walk_ops (from tensorflow.contrib.graph_editor.select) is deprecated and will be removed after 2019-06-06.\n",
            "Instructions for updating:\n",
            "Please use tensorflow.python.ops.op_selector.get_backward_walk_ops.\n",
            "Loading checkpoint models/355M/model.ckpt\n",
            "INFO:tensorflow:Restoring parameters from models/355M/model.ckpt\n"
          ],
          "name": "stdout"
        },
        {
          "output_type": "stream",
          "text": [
            "\r  0%|          | 0/1 [00:00<?, ?it/s]"
          ],
          "name": "stderr"
        },
        {
          "output_type": "stream",
          "text": [
            "Loading dataset...\n"
          ],
          "name": "stdout"
        },
        {
          "output_type": "stream",
          "text": [
            "100%|██████████| 1/1 [00:37<00:00, 37.04s/it]\n"
          ],
          "name": "stderr"
        },
        {
          "output_type": "stream",
          "text": [
            "dataset has 7455067 tokens\n",
            "Training...\n",
            "[50 | 52.98] loss=2.21 avg=2.21\n",
            "[100 | 97.23] loss=2.18 avg=2.19\n",
            "======== SAMPLE 1 ========\n",
            " ride when she was young, i've never seen a group like you where they dance, so you can't really go back, your group is so unique, so there's gotta be a place where you are, if not now, soon you know, cause you got such great taste, and love, and i ain't trying to be mean, i never said you ever need to do what i'm doing, but that never change, you have so much love that i never knew you had, i am counting on you, you're so amazing for me, i know you're mine, and that's the one, i'm so much in love with u, that u really do that right, you've got a style of music in that style, that just makes me feel so good, no matter who i'm with, you're like a family member, and like, i'd rather lose than be alone, love, and i'm thinking about how much time we have left together, you make me feel good, yeah, i'd rather die to make her happy, baby i think i am about a bit different when the camera's rolling, that's right, i know i'm a fool though, because i was a little girl, she had me by the wrist, then she said, don, get in touch with me, no matter what, do it for her, the only person who could come close to her, you really made me realize that we was in love, you don't even need to know, who we are, how much we love each other, you're just such an amazing person, now, i really do appreciate it when you take me to my place, it takes me to be you, so it ain't nothing like what you were before, but just the two of us, when she first met, you were, never had, been in a relationship, just found love, you got her all rolled up together, she's just the kind of girl i wanna be, baby there might even be one thing that might happen, to us, never felt like it was possible to date, because we were just, too special, just to have to wait for anything to happen, the fact that you're in my life, makes me feel so much better, love, and i'm thinking about how much time we have left together, i don't wanna waste it, we could spend a lifetime together, all of your friends, and all of your dreams, all of our friends, all of our dreams. i think we'll find that we both know that we got it, i think we'll find that we both know that we got it, we both know that we got it, i think that we both know that we got it, we both know that we got it, we both understand this has to be the first time, it's just, there's no better feeling to have, no matter who we are, all of the things you do for me, no matter who we are, it just makes me feel so much better, love, and i'm thinking about how much time we have left together, i don't wanna waste it, we could spend a lifetime together, all of your friends, and all of your dreams, all of our friends, all of your dreams, all of your friends, all of your dreams, all of your friends, all of your dreams, all of your friends, all of your dreams\"\n",
            "\", i don't wanna waste it, we could spend a lifetime together, all of your friends, a few of your memories, all of your memories, all of your memories, all of your memories, all of your memories, all of your memories, all of your memories, all of your memories, all of your memories, all of your memories, and all your dreams, all of your memories, and all your dreams, and all your memories, all your dreams, all of your memories, all your memories, and all your memories, you know it's going to take us forever to be a couple, we can't just be together forever, and when we do get married, we'll make it to be the last one to hold hands, you never know when it could lead to a break up, when we break down, it would be all of my dreams that could never be real, that we'll meet again, that you won't be here to greet us, i guess there's no guarantee it'd be for real, we'll never know this, but you'll never look at me the same way again, your heart, your love, all the things, that you've done for me, it's been the most wonderful thing in the world, and i don't know how we'll ever, come full circle again, and i'm feeling very good, i don't want to see that happen again, it's just me for the ride, baby, i don't know what else to say, we might just go for it and have it all again, i can't wait\n",
            "\n",
            "[150 | 165.51] loss=2.05 avg=2.15\n",
            "[200 | 209.78] loss=4.48 avg=2.74\n",
            "======== SAMPLE 1 ========\n",
            " have on my name, I'm just about to start it all in this city, and we getting high for one. You got a lot of things that you want, i'm just the most important thing to me, i'm just the most important thing to me, i'm just the most important thing to me, i'm just the most important thing to me, i'm just the most important thing to me, you don't know the real thing, i'm just a young boy on my way to great things, i'm just a young boy on my way to great things, you don't even know i'm on my way, i can feel it, i got this in my sights, i had to do what's right to me, i'm just a boy on my way to great things, i'm just a boy on my way to great things, you don't know the real thing, you know i am on my way, i'm like a son to my mom, we been down bad times we get back to work, this is all i gotta do, i got a lot of other girls on my mind, i'm just a boy on my way to great things, my mind is like a dream, i just like to go there, yeah i don't really know, but my mom's right, it's my job to help you get what you need, and you shouldn't worry too far ahead, yeah i don't really know, but my mom's right, yeah yeah i don't really know...yeah i don't really know, if i'm not the most important thing to you, maybe you should ask for my help, but i ain't got time for all this talking, we talking like we don't care, oh, and i'm just a boy on my way to greatness, i'm just a boy on my way, with no worries, but i have a lot of other boys on my mind, i'm just a boy on my way, yeah i don't really know, but my mom's right, it's my job to help you get what you need, and you shouldn't worry too far ahead, i ain't got time for all this talk, we talking like we don't care, oh, and you the most important thing to me cause i'm just a boy on my way, i'm just a boy on my way, the most important thing, the greatest thing i have to do, all i need to do is just do what i need to do, and you shouldn't worry about all this, i just need to know, it's really me and you on our way, yeah, it makes me laugh and i'm sure it's you, we talking like we don't care, oh, and you are the most important thing to me cause i'm just a boy on my way, yeah it makes me laugh and i'm sure it's you, this is how i'm feeling you know, it makes me laugh so if this isn't the way i'm feeling, why am i feeling this way?, i'm just a young man, but i can feel it, and i can feel it and i know you can, i'm just a young man, but i can feel it and i can feel it, i'm just a young boy on my way to great things, i'm just a young boy on my way, yes, yeah i don't really know, but my mom's right, it's my job to help you get what you need, and you shouldn't worry about all this thinking, we talking like we don't care, oh, and i'm just a young boy on my way, yeah i don't really know but you know you can get what you need\"\n",
            "\"ya, this whole thing was a mistake, and you should really know that, and that i don't really care what you say, but i was trying to keep a low profile for fear, i couldn't be the same person, i got stuck in my mind, but it'll get better, if a kid says you're not worth shit, you ain't got nothing to say but a bunch of platitudes, i can't live alone, i got to get off the pain, i got to go find a new partner, but the ones i'm in need don't really need a new partner, i ain't got nothing to tell you, i ain't got anything to tell you, but i'm going and i'm going off to find myself a new place, yeah i'm just some teenage thing on my way to greatness, i'm just some teenager thing on my way to greatness, i got a lot to think about, i've got a lot to take stock, i've got a lot to learn, i don't really care what you think, but i know the way it all started, but i don't really care what you think, i wasn't trying to hurt me but i didn't really care what you said, i wasn't trying to get off of me\n",
            "\n",
            "[250 | 274.54] loss=2.27 avg=2.64\n",
            "[300 | 318.76] loss=1.79 avg=2.50\n",
            "======== SAMPLE 1 ========\n",
            " that fucking dude got a lot of money, and he ain't got no life, and that was just the deal a dude make, and then he took that money and started a new game, and now every time he speak up there's shit that i'm trying to say, and that's only to be believed if you're a dude that's just a dude, got nothing to prove, he a thug, he been in the game forever, to have me try to kick his ass, and to get up and down the street, and just keep his head high until he's gone, and then he's gone, and then he's gone, and then he's gone, and then he's gone, and then he's gone, and then he's gone, he's a dude that's just a dude, he ain't got no life, and he ain't got no love, and that was just the deal a dude make, and then he took that money and started a new game, and then he told the world that he ain't got no hoes, he started a new game, to get high with the boys, he been up and down the street for that year, he was up for that for a year, he went out for that for a year, he went out for that for a month, and he went out for a month, and he went out for a month, and he went out for a month, and he went out for a month, and he went out for a week, and he went out for a week, and he went out for a week, and he went out for a week, and he went out for a month, and he went out for a month, and then he told the world that he doesn't have none to prove, he started a new game, to keep the game high, he started a new game, to get high with the boys, and then he went out for that for a year\"\n",
            "\", you're all the way down, let's get started, i'm just trying to make a start, i been down since my youth, and this bitch come a time, we all living on our own, we be just trying to get by, and now we on our own, how we doin' it?, we be just tryna do it, and we be tryna get together, we be tryna get started, this ain't no trick, we be tryna get started, don't put us through hell, nothin' to prove, why it's no secret, we don't gotta do this no, and our way ain't like the other way around, we be tryna get a feel for our selves, and now we on our own, now don't mess with us, i be puttin this shit on our own, now don't mess with us, i be puttin this shit on our own, now don't mess with us, i be puttin this shit on our own, now don't mess with us, i be puttin this shit on our own, all this shit is bullshit, a lie, a lie that's only in my head, this ain't no play, no shit, this ain't no trick, we be tryna get a feel for ourselves, and now we on our own, now don't mess with us, i be puttin this shit on our own, now don't mess with us, i be puttin this shit on our own, now don't mess with us, i be puttin this shit on our own, now don't mess with us, i be puttin this shit on our own, get this up and get this up, go, get this up, go, get this up, go, get this up, we get that up, now get that up, now get that up, get that up, go, get that up, go, get that up, we get that up, now get that up, go, get this up, now get that up, go, get this up, we get that up, now get that up, go, get this up, go, get that up, we get that up, go, get that up, go, get this up, go, get that up, we get that up, go, get that up, go, get that up, go, get that up, go, get this up, now get that up, go, get this up, go, get this up, we get that up, now get that up, go\"\n",
            "\", i see you in the news, cause you're tryna make a life, get up, get up, get up, get up, get up, get up, get up, get up, get up, got a little bit of a buzz, get up, get up, get up, get up, get up, get up, get up, got a little bit of a buzz, get up, get up, get up, get up\n",
            "\n",
            "[350 | 384.05] loss=2.42 avg=2.49\n",
            "[400 | 428.28] loss=2.66 avg=2.51\n",
            "======== SAMPLE 1 ========\n",
            ", the one thing you know, I'm always the one, i'm always the one, i'm always the one, i'm always the one, i'm always the one, i've been, that's, who you wanna be, i can't deny it to you, my mind is like a, jacquel rodgero, and we don't touch it, like a jac-cab, but we know it, this is what you do to me, that's, oh man, this ain't a jace, it's your love story, love is, what you do to me\"\n",
            "\", this is me, me who i be and this is me, i want a real deal, i want to take my chance, i want a real deal, the real deal, i want a real deal, my girl was with me from the start, to the end, all I wanna see is the real deal, she was with me from the start, i know when i'm with her, the real deal, i won't try to be the first one, i want a real deal, let me be the first one, i want a real deal, i know when i'm with her, the real deal, i won't try to be the first one, i wanna be yours, i wanna be yours, i want an empire, i wanna be mine, all i want is an empire, i wanna be mine, i want an empire, i wanna be mine, all i want is an empire, i wanna be mine, my empire, i just wanna know that when it comes time for the real deal, i wanna be yours, i wanna be yours, i wanna be yours, i wanna be mine yeah, i wanna get the big house, i wanna be yours, i wanna get big house, i wanna go from zero to platinum, just to get that real, you can stay when we're together, you can tell you won't miss the way that we move, we move with ease, all about that real deal, when she say she want a girl, it's all about me, we'll have us a date, we'll have we a fight, we're gonna fuck that girl, i wanna have the real deal with her, so i wanna know when the real deal\"\n",
            "\", i wanna be yours, i wanna be yours, i wanna be yours, i wanna be yours, if you're not mine then you're not mine, o-o-hoe, get over here tome, hey-e, i'm so in love with her, ohh, i'm always with her when they don't hold it down, i wanna be yours, i wanna be yours, i wanna be yours, i wanna be yours, i want her too, i gotta be yours, i wanna be yours, and when i'm with you, and when i'm with you, they'll hold it down with everything we talk about, i wanna be yours, i wanna be yours, i want her too, i gotta be yours, i wanna be yours, i wanna be yours, i want her too, i gotta be yours, i wanna be yours, i wanna be yours, i gotta be mine too, o-o-oh-ah, goo-o-oh! o-o-hooo-ah, ohohoho-ah, i wanna be yours, ohoh yeah o-o-oh, i wanna be yours, i want her too, i gotta be mine, i wanna be yours, i wanna be yours, i wanna be yours, you could always be mine, i wanna be mine, i wanna be yours, i'm so in love with her, ohh... i'm so in love with her, ohh, baby girl, i know that i can control my mind, i'm so in love with her, i'm such a bad dude, i'm so in love with her, i'm so in love with her, baby, baby, i'm so in love with her, i'm so in love with her, i'm so in love with her, i love you, ohh, i wish that i could get you, ohhh, wish that you could get me, ohh, could you get us, ohhh, i would never want to do you, i would never want to do you, you're not mine, baby, baby, i would never mind if you came for me, i would never mind if you came for me, you're oh yeah, oh you're such a bad dude, ohh....\"\n",
            "\", you were so smart as a kid to leave your mom to die, and i could see her in my eyes, looking through the fog, i saw one moment that changed your life, and one day you'll make me cry, so i decided to get a cup of my own, and one day i'm gonna have everything, you were so smart as a kid to leave your mom to\n",
            "\n",
            "[450 | 493.43] loss=3.28 avg=2.60\n",
            "[500 | 537.69] loss=3.71 avg=2.71\n",
            "Saving checkpoint/urban_train/model-500\n",
            "======== SAMPLE 1 ========\n",
            ", what's up baby and that's what i say,\"\n",
            "\"what's up baby what's up baby, you're getting too close to the fire, baby you ain't, not all that fun, baby you don't wanna be with nobody, baby you know you better, you're getting too close to the fire, baby you ain't, not all that fun, baby you don't wanna be with nobody, baby you know you better, you're getting too close to the fire, baby you ain't, not all that fun\"\n",
            "\"yeah, baby put it in, fuck this shit man, i just wanna die, ain't no need for an act, baby you'll be my shit, it's too bad that i was raised without you, i was raised by my mother, you know how fucked up when your mother try's to kick it to you?, i did it for you, so fuck your mother and then i put her in the basement, yeah, no, you got to be a fucking genius, i'm a fucking genius, to get to the top like i'm flying off the rails, i'm a fucking genius, and i can't handle being single, but, you wanna go out with me, you know that it's too late for you not now, baby you're too late, let me tell you, there's a dude that is the only one that's been to get the shit that you want, baby i heard, i'm getting high like you want, but you're acting like you're going crazy, yeah that's a dude that is the only one, that's too late, now i'm the only, that's too late, to let her go, and i'm the only one that's really gone, she's the only person i know i love, you, too, for talking like that you're only thinking of the money, baby you're the only, that's, you're the only one for talking on the phone that's what you got to say, baby you're the only one that's ever been to feel so deep in the game, too scared, to play it safe. just to have you in, for a moment in time that's the only time you got to let me walk, baby you's the only one that's ever been there to let me get down this road, you're the only one that's ever been there to make my dreams come true at the same time, and baby you's the only one that's ever been there to let me love you, baby you's the only one that's ever been there to let me, love you, i'm too, for everything that you do, you're the only person, you're the only one that's ever been, for everything that you do you're in my shoes, too young, too hot, you don't wanna live like you got money, too young, too wet, you don't wanna die with me, now i'm the only, that's too late, now i'm the only, i'm the only one that's ever been here to make you laugh, baby you're the only one that's ever been, for everything that you do, i'm too young, but how much?, oh yeah, baby you're the only one that's ever been there to make you laugh, baby you's the only one to let me know that you love me, baby you's the only one for the love that you give, baby you's the only one for the love that you give, you know you love it when you kiss it goodbye, baby you's the only one for the love that you give\",\n",
            "\"yeah, you've got it now, i've got to get off the stage, you're just the way that you be, you always out of time with my song, i wanna dance all around you tonight, but i'm trying to stay positive, you'll stay on, you're doing the things that you do, i really wanna be with you at the ball tonight, your love is a special thing, it's like magic that you do, and your love is amazing, you're so sweet, you're so sweet, you're so sweet, you're so sweet, you're so sweet, you're sweet, you're so sweet, you're so sweet, now, you're so sweet, no, no, no, no, no, no, no, no, no, oh oh no, oh oh no, oh oh no, oh oh oh, oh oh no, oh oh oh oh, oh oh no, oh oh ooh oh, oh ooh ooh oh, oh oh oh, oh oh oh no, oh oh oh no, oh oh oh oh, oh oh ooh oh, oh oh ooh oh, oh oh oh, oh ooh ooh ooh oh you know you're sweet, you're so sweet, you're so sweet, you're so sweet, you're so sweet, you're so sweet\n",
            "\n",
            "[550 | 610.66] loss=3.88 avg=2.83\n",
            "[600 | 654.94] loss=1.79 avg=2.73\n",
            "======== SAMPLE 1 ========\n",
            ", this world is full of war, and i will continue to fight for myself, it hurts to say i will never come back, to me, this world is full of war, i will continue to fight for myself, it hurts to say i will never come back, to me, this world is full of man, i will keep going till the world will be mine, i can't stop when i stop, i can't stop when i stop, i can't stop, i can't stop, i can't stop, i can't stop, i can't stop, i can't stop, i can't stop\"\n",
            "\", i see a bright and a dark, a world gone, a world divided, a world that is broken, and one that looks so good, it's a world I never thought existed, i see a bright and a world gone, a world gone, a world divided, i see a world where the people are afraid, how you do you live alone? i see a world where hate is all around you, all around you, i see an empty world, i see a bright and a world gone, a world gone, a world divided, a world that is broken, and a world that looks so good, it's a world my eye has seen and now i see a bright light, a world gone, a world divided\"\n",
            "\"i say, there he goes, i say, there he stays, you say, there he's on you, oh, oh, there you go. oh, oh, oh, oh, oh, the bright light, oh, oh, oh, a world gone, a world divided, a world that is broken, now i'm here alone, i'm alone, i'm alone, i'm alone, i'm alone, i'm alone, i'm alone, oh, oh, i'm alone, i'm alone, i'm alone, i'm alone, i'm alone, i'm alone, i'm alone, i'm alone, i'm alone\"\n",
            "\", we live in it, i'm always in love with it, i feel like i'm in love with it, i feel like i'm in love with it, every time i look into her eyes, i try to guess how she feels, but i'm sure it's real, it's not fake, and that's a little scary, she feels real and it gives me a vibe, i can't deny it, she likes it when i get my hands into her hair, the way she leans her head as she smiles down at me, every time i look into her eyes, i try to guess how she feels, but i'm sure it's real, she likes it, i feel like i'm in love with it, i feel, i'm in love with it!, i'm in love with it, i'm in love with it, i could never tell if it's your fault, i could never tell if it's your fault, i could never tell if it's your fault, i could never tell if it's your fault, i could never tell if it's your fault, i could never tell if it's your fault, i could never tell if it's your fault, i could never tell if it's your fault, i could never tell if it's your fault, i could never tell if it's your fault, i could never tell if it's your fault, i could never tell if it's your fault, i could never tell if it's your fault, i could never tell if it's your fault, i could never tell if it's your fault, i could never tell if it's your fault, this is the truth, this is the truth, let me speak it's the truth, let me speak it's the truth, let me speak it's the truth, let me speak it's the truth, let me speak it's the truth, let me speak it's the truth, let me speak it's the truth, let me speak it's the truth, let me speak it's the truth, let me speak it's the truth, i could never tell if it's your fault, i could never tell if it's your fault, i could never tell if it's your fault, i could never tell if it's your fault, i could never tell if it's your fault, i could never tell if it's your fault, i could never tell if it's your fault, i could never tell if it's your fault\"\n",
            "\"whoa, whoa, whoa, i guess you can't let us in, why not, it doesn't matter when we are here, and if we don't get up on our feet, then i guess you can't let us in, i guess you can't let us in, i guess you can't let us in, i guess you can't let us in, i guess you can't let us in, i guess you can't let us in, i guess you can't let us in\n",
            "\n",
            "[650 | 720.02] loss=2.09 avg=2.68\n",
            "[700 | 764.26] loss=4.48 avg=2.82\n",
            "======== SAMPLE 1 ========\n",
            " bills, and i'm with every one, that you have a heart, let me introduce you to the future, and it starts at four, and i've never been the man that's supposed to be, and you can take it or leave it, and i'm tired of being like you, oh, i've been working hard for nothing, and i feel like a dog that's been barking like i heard, now if you don't tell that i won't never change, it's a feeling you can just let go, and maybe if your friends don't try to tear me down, you'll let me love you again, well, i'm the one that you'll say 'yes' to, well, if you wanna love me now, you don't gotta be to me, well, i'm the one that you'll say your name, in your heart, i don't play no game, oh, well, it's easy to say if you ain't in it, but if you ain't ready to give it, well, i'm the one who you'll say in your heart, you can say goodbye forever, well, i'm the one that you'll say 'hello', just like it's true, oh, if you ain't there for me, well, i'm the one that you'll say 'hello', just like it's true, oh, if you ain't in it\"\n",
            "\", the little boy, little boy, little boy, just like it's true, he will not be left behind, oh no, he will not never be left behind, oh no, no, no, he will never be left behind, oh no, just like it's true, i could never be left behind, oh no, oh no, just like it's true, if i let my heart go, if i let my heart go, if i would, just like it's true, all those things you say they love to hear about, they know you're a dream, they know ya're a little boy, they love ya, all they know is, you'll never be left behind, oh no, he will not be left behind, a little boy just like it's true, he will never be left behind, oh no, i'll be there, i'd put this hand over this life, i'm too smart to fall, to let love get lost, too big to lose, too small to lose, to let love get lost\"\n",
            "\"all we know is love, all we know is love, everything you need will come, everything you need is within, everything you need is within, everything you need is within, everything you need is within, everything you need is within, everything you need is within, everything you need is within, everything you need is within, everywhere you go i can see your heart, every time you make a little noise, i know you're happy, every time you see a little smile, i hope you're happy, every time you say hello, i hope you're happy, every time you say goodbye, i just hope i'm happy, every time you say good morning, i hope you're happy, every time you say hello, i hope you're happy, every time you see a little smile, i hope you're happy, every time you say hello, i hope you're happy, every time you say hello, i hope you're happy, every time you say hello, i hope you're happy,every time you smile, every time you speak, every time you say hello, every time you say goodbye, every time you say hello, every time you smile, everything you need is within, everything you need is within, everything you need is within, everything you need is within, everything you need is within, anywhere you go, i can see your heart, every time you make a little noise, i know enough about love to know you're safe, nothing can leave you in doubt, and everything you need is within, everything you need is within, everything you need is within\"\n",
            "\"goodbye, don't make me wait, don't make me wait, don't make me wait, don't make me wait. say yes that you love me, say yes that you love me, don't be afraid to try baby, now come here, say yes that you love me, don't tell nobody anything that you did and i won't have to keep it to myself, you'll probably go and leave me feeling really sad, all i wanna say, baby, just say yes to me, i say yes in your heart, love i got you baby, love I love your baby, love i love the whole bunch of you baby, baby, just say yes, say yes to me, oh baby, oh baby, yeah, just say yes, everything you need is within, everything you want is within, everything you need is within, everything you need is within, everything you need is within, everything you need is within\",\n",
            "\"all i heard\n",
            "\n",
            "[750 | 829.54] loss=3.85 avg=2.89\n",
            "[800 | 873.75] loss=1.85 avg=2.82\n",
            "======== SAMPLE 1 ========\n",
            " got, when we at the top we at the top, when we at the top, we at the top, when we at the top, we at the top, when we at the top, we at the top, when we at the top, we at the top, when we at the top\"\n",
            "\", get up and go make love, love love, love love, love, love, love you baby, get up and go make love with your girl, love love you baby baby, love you baby baby,\"\n",
            "\"my dream is a man, my dream is a man, when he'm, i see a man, my dream is a man, while he's standing in the hall, a man standing in the halls, a man standing, waiting on some men with some men, waiting on some men with some, waiting on some men with some, i want some men, a man with some of the best in the business, on some of the most popular and favorite songs, you know how i feel when i hear someone sing, some of the hottest in the business, on some of the hottest, we on the way to the top, all we want for our dreams is, some of the top, some of the top, but some of the top, we go crazy, some of the top, some of the top, we go crazy, some of the top, some of the top, some of the top, some of the top, some of the top, some of the top, some of the top, some of the top, some of the top, some of the top, some of the top, some of the best, some of the top, they go wild, we, ride, ride, ride, ride 'til the top, ride 'til the top, ride 'til the top, ride 'til the top, ride 'til the top, ride 'til the top, i want me the best, in my dreams some day, i wake up, the dream is a man, i get up and go make love, love my boy, he is waiting on some men with some men, and you know how i feel when i hear someone sing, some of the hottest in the business, on some of the hottest\"\n",
            "\", everytime your life's on the line, everything you need will be delivered right here, you just get to go ahead, you are the master of your destiny, and you can do it all. if you're right here, let your heart be in the clouds, keep your eyes on the sky, and keep your fingers on the keys, and you can fly through clouds and your enemies, and you can keep you hands free and yours warm, keep your heart in the mountains, you need that heart, and you won't forget, when it's all said and done, you'll get right back into the skies, when your life's on a wall, you just get to go ahead, you are the master when they ask you a question, i'm on my, you may have to change your game, you just go and give me an answer with your best, you're right here, all of my love is in you, and if you keep all of these words, the way you deliver them to me, i'm the one that's gonna keep you happy, you tell me how to live up on your word, your love is like some of the best, you will have to tell me what the sky looks like, every time your life's on the line, everything you need will be delivered right here, you just get to go ahead, you are the master of your destiny, and you can do it all. if you're right here, you just get to go ahead, you are the master of your destiny, and you can do it all. if you're right here, you just get to go ahead, you are the master of your destiny\"\n",
            "\"now, you don't understand me, my love, your pain is making me hurt, it took all they can do to make my world so much worse, i could be the man for you, but i don't care, you don't care what i do to you, you don't care what i say, you don't care what i do to you, i don't care what i say, you don't care what i do to you, you shouldn't trust me, you shouldn't trust me, you didn't deserve to have me, you didn't deserve to have me, i was brought up believing i would never trust a woman, i learned the hard way to always trust what it says on the label, and i learned to trust no one, i learned to trust people, now you're falling apart inside of me, i can't take the pain away from me, if you do something to me, it will hurt me, but in the end it was worth it, it gave me the strength, it gave me the confidence, in the end i won't change, i\n",
            "\n",
            "[850 | 938.82] loss=4.49 avg=2.93\n",
            "[900 | 983.07] loss=2.86 avg=2.92\n",
            "======== SAMPLE 1 ========\n",
            " pole, i run my mouth all the time, fuck with me, fuck with me, fuck with me, fuck with me, fuck with me, my throat always go so smooth, i'm just doing my job, i'm just running out of time to spend with it, i'm just running out of time to spend with it, i'm just running out of time to spend with it, i'm just running out of time, fuck with me, fuck with me, fuck with me\"\n",
            "\"this is me trying to give her everything i have, the things she wants so bad that she needs a man, so much it hurts, oh i know i've had it up to here but i'mma give that up cause she needs it, but i'm just trying not to make her mine, tryna make her mine, just can't be selfish, this is me trying to give her everything i got, the things she wants so bad that she needs a man, so much it hurts, oh i know i've had it up to here but i'mma give that up cause she needs it, but i'm just trying not to make her mine, tryna make her mine, just can't be selfish, oh oh oh oh oh oh, oh oh oh oh my baby, i'll always love you, can't take no shit, i'm just trying to love you, get on my mind, oh oh oh oh oh, girl, we're gonna go, we're gonna get it, girl, we're gonna go, don't wanna give it up yet cause i'm feeling like all my dreams, can't take no shit, i'm just trying to love you, get on my mind, oh oh oh oh, girl, we're gonna go, we're gonna get it, girl, we're gonna go, oh oh oh oh oh, oh oh oh, oh oh oh, oh oh, oh, uh, oh oh, girl, yeah, so we gonna go, no more, no more\"\n",
            "\"i'm on my way to getting it, i'm on my way to getting it, i'll be the man when i get my way off this track, i'm on to the dancefloor, i ain't out for the day, ain't on to the couch, can't sit on my own damn couch, but i'm on to the dancefloor dude, i ain't out on this beat, not 'bout the money, but i'm talking bout how i got my way started, i'm on my way to getting it, i'm on my way to getting it, i'm on my way to getting it, no more, no more, can't sit on my own damn couch, but i'm on to the dancefloor dude\"\n",
            "\"i'm in the club, all my dudes from the back, we all in this same shit, all my dudes from the back, all my dudes from the back, we all in this same shit, all my dudes from the back, all my dudes from the back, all my dudes from the back, we all in this same shit, all my dudes from the back, get it, all my dudes in the back get it, i got the mack up on my hip, in my pocket, in my hand, i'mma take a hit 'til i'm done, i'm back in the booth, the beat going bang, the beat going boom, i'm so good that i can taste it, that's makin dudes look at me like i'm mad, i love this dude, i love this chick, i love this shit, i'ma go out and kill it, i'm a killer and i'm a thief, i'ma get the money so i can get out of it, i'm a get the money so i can stay in it, my dude dogg, i'm the money, i'm a dogg, i'm the money, my dude dogg, i'm the money, i'm a dogg, i'm the money, my dude dogg, i'm the money, i'm the money, i'm the money, i'm the money, all my dudes goin in the club, i'ma goin in the club, i'm a gangsta like a fad in the back, all my dudes gettin it on it, all my dudes with the same ass that's out with me, these little dudes is goin down, all them little bitches in the back, in the back, all these little bitches in the back, in the front, in the back, all my dudes up in the back, i'mma be gettin it on, if you ain't see me in this world i've got to break you apart, i'mma break you, i can see ya in the night, yeah, every time he see my dude goin down on this track, i'mma get it on, i'mma be the man, when\n",
            "\n",
            "[950 | 1047.93] loss=3.78 avg=2.97\n",
            "[1000 | 1092.22] loss=2.80 avg=2.96\n",
            "Saving checkpoint/urban_train/model-1000\n",
            "WARNING:tensorflow:From /tensorflow-1.15.0/python3.6/tensorflow_core/python/training/saver.py:963: remove_checkpoint (from tensorflow.python.training.checkpoint_management) is deprecated and will be removed in a future version.\n",
            "Instructions for updating:\n",
            "Use standard file APIs to delete files with this prefix.\n"
          ],
          "name": "stdout"
        }
      ]
    },
    {
      "cell_type": "code",
      "metadata": {
        "id": "12bW4hVfwtVG",
        "colab_type": "code",
        "outputId": "7f1c640e-f93a-48fa-90b0-31f4206de1b1",
        "colab": {
          "base_uri": "https://localhost:8080/",
          "height": 187
        }
      },
      "source": [
        "!zip -r \"/content/drive/My Drive/urban_train.zip\" \"/content/checkpoint/urban_train/\""
      ],
      "execution_count": 0,
      "outputs": [
        {
          "output_type": "stream",
          "text": [
            "  adding: content/checkpoint/urban_train/ (stored 0%)\n",
            "  adding: content/checkpoint/urban_train/vocab.bpe (deflated 53%)\n",
            "  adding: content/checkpoint/urban_train/model-1000.index (deflated 66%)\n",
            "  adding: content/checkpoint/urban_train/events.out.tfevents.1584805450.bc3b8287c31c (deflated 62%)\n",
            "  adding: content/checkpoint/urban_train/checkpoint (deflated 40%)\n",
            "  adding: content/checkpoint/urban_train/model-1000.data-00000-of-00001 (deflated 7%)\n",
            "  adding: content/checkpoint/urban_train/counter (stored 0%)\n",
            "  adding: content/checkpoint/urban_train/model-1000.meta (deflated 92%)\n",
            "  adding: content/checkpoint/urban_train/encoder.json (deflated 67%)\n",
            "  adding: content/checkpoint/urban_train/hparams.json (deflated 33%)\n"
          ],
          "name": "stdout"
        }
      ]
    }
  ]
}